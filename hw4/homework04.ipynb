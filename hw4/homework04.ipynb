{
 "cells": [
  {
   "cell_type": "markdown",
   "metadata": {
    "pycharm": {},
    "tags": [
     "T"
    ]
   },
   "source": [
    "> **Student Names and IDs**:\n",
    "> - Pablo Ortiz, 0686443\n",
    "> - Jongwan Park, 0848815"
   ]
  },
  {
   "cell_type": "markdown",
   "metadata": {
    "pycharm": {},
    "tags": [
     "HST"
    ]
   },
   "source": [
    "# Homework 4"
   ]
  },
  {
   "cell_type": "markdown",
   "metadata": {
    "pycharm": {},
    "tags": [
     "HST"
    ]
   },
   "source": [
    "## Part 1: Exam-Style Questions"
   ]
  },
  {
   "cell_type": "markdown",
   "metadata": {
    "pycharm": {},
    "tags": [
     "HST"
    ]
   },
   "source": [
    "### Problem 1.1"
   ]
  },
  {
   "cell_type": "markdown",
   "metadata": {
    "pycharm": {
     "name": "#%% md\n"
    },
    "tags": [
     "HST"
    ]
   },
   "source": [
    "Suppose that the histogram of orientations $\\theta\\in [0, 180)$ has 18 equal bins, numbered 0 to 17, and with centers $5, 15, \\ldots, 175$. Bilinear voting is used, as described in the class notes on Histograms of Oriented Gradients. Give the fraction of vote that each of the bins receives when a measurement $\\theta = 42$ is observed. Fractions are values in $[0, 1]$."
   ]
  },
  {
   "cell_type": "markdown",
   "metadata": {
    "pycharm": {},
    "tags": [
     "ST"
    ]
   },
   "source": [
    "### Answer"
   ]
  },
  {
   "cell_type": "markdown",
   "metadata": {},
   "source": [
    "For bin 3:\n",
    "\n",
    "$$\n",
    "(45 - 42)/10 = 0.3\n",
    "$$\n",
    "\n",
    "For bin 4:\n",
    "\n",
    "$$\n",
    "(42 - 35)/10 = 0.7\n",
    "$$\n",
    "\n",
    "Rest of the bins:\n",
    "\n",
    "$$\n",
    "0\n",
    "$$"
   ]
  },
  {
   "cell_type": "markdown",
   "metadata": {
    "pycharm": {},
    "tags": [
     "HST"
    ]
   },
   "source": [
    "### Problem 1.2"
   ]
  },
  {
   "cell_type": "markdown",
   "metadata": {
    "pycharm": {},
    "tags": [
     "HST"
    ]
   },
   "source": [
    "The $x$ and $y$ components of $\\nabla I$ at a particular pixel in an image are $10\\sqrt{3}$ and $10$, respectively. What are the magnitude and orientation of the gradient there? Express orientation in degrees relative to the $x$ axis."
   ]
  },
  {
   "cell_type": "markdown",
   "metadata": {
    "pycharm": {},
    "tags": [
     "ST"
    ]
   },
   "source": [
    "### Answer"
   ]
  },
  {
   "cell_type": "markdown",
   "metadata": {},
   "source": [
    "Magnitude:\n",
    "$$\n",
    "\\mu = \\sqrt{I_x^2 + I_y^2} = \\sqrt{300 + 100} = 20\n",
    "$$\n",
    "\n",
    "Orientation:\n",
    "$$\n",
    "\\theta = \\frac{180}{\\pi} \\left(\\arctan\\left(\\frac{I_y}{I_x}\\right)\\mod \\pi\\right) = \\frac{180}{\\pi} \\left(\\arctan\\left(\\frac{10}{10\\sqrt{3}}\\right)\\mod \\pi\\right) = 30°\n",
    "$$"
   ]
  },
  {
   "cell_type": "markdown",
   "metadata": {
    "pycharm": {},
    "tags": [
     "HST"
    ]
   },
   "source": [
    "### Problem 1.3"
   ]
  },
  {
   "cell_type": "markdown",
   "metadata": {
    "pycharm": {},
    "tags": [
     "HST"
    ]
   },
   "source": [
    "A HOG feature is computed from a $128\\times 64$ window divided into cells with $8\\times 8$ pixels each. The size of a block is $2\\times 2$ cells. Central differences are used to compute gradients. Each cell histogram has nine bins of equal size, and bin 0 is for orientations in $[0, 20)$ degrees.\n",
    "\n",
    "Rather than using a constant $\\epsilon$ in the denominator during normalization of a histogram $\\mathbf{v}$, the following procedure is used at all stages to normalize a histogram $\\mathbf{v}$ to $\\mathbf{v}'$:\n",
    "\n",
    "$$\n",
    "\\mathbf{v'} \\;=\\; \\left\\{\\begin{array}{ll} \\frac{\\mathbf{v}}{\\|\\mathbf{v}\\|} &\n",
    "\\mbox{if $\\|\\mathbf{v}\\| \\neq 0$} \\\\ \\mathbf{v} & \\mbox{otherwise.}\\end{array}\\right.\n",
    "$$\n",
    "\n",
    "The threshold $\\tau$ used to saturate the feature entries during contrast normalization is set to infinity (so that it has no effect).\n",
    "\n",
    "For a given window, the pixel at position $(5, 5)$ has value 50, and all other pixels are zero.\n",
    "\n",
    "Give an expression for the entries of the HOG feature $\\mathbf{h}$ for that window."
   ]
  },
  {
   "cell_type": "markdown",
   "metadata": {
    "pycharm": {},
    "tags": [
     "ST"
    ]
   },
   "source": [
    "### Answer"
   ]
  },
  {
   "cell_type": "markdown",
   "metadata": {},
   "source": [
    "Only cell (0,0) (thus block (0,0)) contains the nonzero pixel.\n",
    "Computing $\\nabla I$...\n",
    "\n",
    "For (5,4), (5,6), \n",
    "\n",
    "$$\n",
    "I_x = 50, I_y = 0.\\\\\n",
    "\\theta = 0.\n",
    "$$\n",
    "\n",
    "=> bin 0 and 8 get 1 vote each (50).\n",
    "\n",
    "For (4,5), (6,5),\n",
    "\n",
    "$$\n",
    "I_x = 0, I_y = 50.\\\\\n",
    "\\theta = 90°.\n",
    "$$\n",
    "\n",
    "=> bin 4 gets 2 votes (2*50 = 100).\n",
    "\n",
    "For the block (0,0), $\\mathbf{b}_0$, whose length is 36,\n",
    "\n",
    "$$\n",
    "\\mathbf{b}_0 [0] = 50,\\\\\n",
    "\\mathbf{b}_0 [4] = 100,\\\\\n",
    "\\mathbf{b}_0 [8] = 50.\n",
    "$$\n",
    "\n",
    "Normalizing it gives,\n",
    "\n",
    "$$\n",
    "\\tilde{\\mathbf{b}}_0 [0] = 1/\\sqrt{6},\\\\\n",
    "\\tilde{\\mathbf{b}}_0 [4] = 2/\\sqrt{6},\\\\\n",
    "\\tilde{\\mathbf{b}}_0 [8] = 1/\\sqrt{6}.\n",
    "$$\n",
    "\n",
    "Concatenating all the 15x7 blocks result in $\\mathbf{h}$ with the length of 3780.\n",
    "\n",
    "$$\n",
    "\\mathbf{h} [0] = 1/\\sqrt{6},\\\\\n",
    "\\mathbf{h} [4] = 2/\\sqrt{6},\\\\\n",
    "\\mathbf{h} [8] = 1/\\sqrt{6}.\n",
    "$$\n",
    "\n",
    "As $\\mathbf{b}$ was already nonrmalized and all the other entries of $\\mathbf{h}$ are 0, there is no need to normalize $\\mathbf{h}$."
   ]
  },
  {
   "cell_type": "markdown",
   "metadata": {
    "pycharm": {},
    "tags": [
     "HST"
    ]
   },
   "source": [
    "### Problem 1.4"
   ]
  },
  {
   "cell_type": "markdown",
   "metadata": {
    "pycharm": {},
    "tags": [
     "HST"
    ]
   },
   "source": [
    "The magnitude of a vector $\\mathbf{x} = [x, y]^T\\in\\mathbb{R}^2$ is\n",
    "\n",
    "$$\n",
    "            f(x, y) = \\sqrt{x^2 + y^2}\\;.\n",
    "$$\n",
    "\n",
    "Write algebraic expressions and exact decimal numerical values of the gradient $\\nabla f$ and Hessian $H_f$ of $f$ at $x=3$ and $y=4$.\n",
    "\n",
    "[Hint: $1/5^3 = 1/125 = 8/1000$.]"
   ]
  },
  {
   "cell_type": "markdown",
   "metadata": {
    "pycharm": {},
    "tags": [
     "ST"
    ]
   },
   "source": [
    "### Answer"
   ]
  },
  {
   "cell_type": "markdown",
   "metadata": {},
   "source": [
    "Calculating gradient:\n",
    "\n",
    "$$\n",
    "\\nabla f(x,y) =\\frac{\\partial f}{\\partial x} + \\frac{\\partial f}{\\partial y} =\\frac{x}{\\sqrt{x^2+y^2}} + \\frac{y}{\\sqrt{x^2+y^2}},\\\\\n",
    "\\nabla f (3,4) = \\frac{3}{5} + \\frac{4}{5} = \\frac{7}{5} = 1.4 \\;.\n",
    "$$\n",
    "\n",
    "Calculating Hessian $H_f$:\n",
    "\n",
    "$$\n",
    "H_f(\\mathbf{x}) =\n",
    "\\frac{\\partial^2 f}{\\partial \\mathbf{x} \\partial \\mathbf{x}^T} =\n",
    "\\left[\\begin{array}{cc}\n",
    "\\frac{\\partial^2 f}{\\partial x^2} &\n",
    "\\frac{\\partial^2 f}{\\partial x \\partial y}\\\\\n",
    "\\frac{\\partial^2 f}{\\partial y \\partial x} &\n",
    "\\frac{\\partial^2 f}{\\partial y^2} \\end{array} \\right]\\\\\n",
    "= \n",
    "\\left[\\begin{array}{cc}\n",
    "\\frac{1}{\\sqrt{x^2+y^2}} -\\frac{x^2}{(x^2+y^2)^{3/2}} &\n",
    "-\\frac{xy}{(x^2+y^2)^{3/2}} \\\\\n",
    "-\\frac{xy}{(x^2+y^2)^{3/2}} &\n",
    "\\frac{1}{\\sqrt{x^2+y^2}} -\\frac{y^2}{(x^2+y^2)^{3/2}} \\end{array} \\right]\\\\\n",
    "$$\n",
    "\n",
    "$$\n",
    "H_f (3,4) = \\left[\\begin{array}{cc}\n",
    "\\frac{1}{5}-\\frac{9}{125} &\n",
    "-\\frac{12}{125} \\\\\n",
    "-\\frac{12}{125} &\n",
    "\\frac{1}{5}-\\frac{16}{125} \\end{array} \\right]\\\\\n",
    "= \\left[\\begin{array}{cc}\n",
    "\\frac{16}{125} &\n",
    "-\\frac{12}{125} \\\\\n",
    "-\\frac{12}{125} &\n",
    "\\frac{9}{125} \\end{array} \\right]\\\\\n",
    "= \\left[\\begin{array}{cc}\n",
    "0.128 &\n",
    "-0.096 \\\\\n",
    "-0.096 &\n",
    "0.072 \\end{array} \\right].\\\\\n",
    "$$"
   ]
  },
  {
   "cell_type": "markdown",
   "metadata": {
    "pycharm": {},
    "tags": [
     "HST"
    ]
   },
   "source": [
    "### Problem 1.5"
   ]
  },
  {
   "cell_type": "markdown",
   "metadata": {
    "pycharm": {},
    "tags": [
     "HST"
    ]
   },
   "source": [
    "The second stage of line search repeatedly narrows a bracketing triple $(a, b, c)$ established in the first stage. Suppose that at some point during the second stage the bracketing triple is:\n",
    "\n",
    "$$\n",
    "a = 0 \\;\\;\\;,\\;\\;\\; b = 2 \\;\\;\\;,\\;\\;\\; c = 6\n",
    "$$\n",
    "\n",
    "with function values\n",
    "\n",
    "$$\n",
    "h(a) = 6 \\;\\;\\;,\\;\\;\\; h(b) = 3 \\;\\;\\;,\\;\\;\\; h(c) = 4\n",
    "$$\n",
    "\n",
    "along the search line. Assume further that\n",
    "\n",
    "$$\n",
    "h(1) = 2 \\;\\;\\;\\text{and}\\;\\;\\; h(4) = 5\\;.\n",
    "$$\n",
    "\n",
    "What is the bracketing triple after that? Standard line search is applied, that is, no golden ratio is used. No need to explain.\n",
    "\n",
    "[Hint: Draw a sketch.]"
   ]
  },
  {
   "cell_type": "markdown",
   "metadata": {
    "pycharm": {},
    "tags": [
     "ST"
    ]
   },
   "source": [
    "### Answer"
   ]
  },
  {
   "cell_type": "markdown",
   "metadata": {},
   "source": [
    "The bracketing triple after that is (0, 1, 2)"
   ]
  },
  {
   "cell_type": "markdown",
   "metadata": {
    "pycharm": {},
    "tags": [
     "HST"
    ]
   },
   "source": [
    "### Problem 1.6"
   ]
  },
  {
   "cell_type": "markdown",
   "metadata": {
    "pycharm": {},
    "tags": [
     "HST"
    ]
   },
   "source": [
    "The gradient and Hessian at $\\mathbf{z}_0 = [4, 1]^T$ for some function $f\\ :\\ \\mathbb{R}^2 \\rightarrow \\mathbb{R}$ are as follows:\n",
    "\n",
    "$$\n",
    "\\nabla f(\\mathbf{z}_0) \\;=\\; \\left[\\begin{array}{c}2\\\\1 \\end{array}\\right]\n",
    "\\;\\;\\;\\text{and}\\;\\;\\;\n",
    "H_f(\\mathbf{z}_0) \\;=\\; \\left[\\begin{array}{c}2 & 1\\\\1 & 3 \\end{array}\\right] \\;.\n",
    "$$\n",
    "\n",
    "Find the point $\\mathbf{z}_1$ that results by taking a single Newton step from $\\mathbf{z}_0$. Show your reasoning briefly."
   ]
  },
  {
   "cell_type": "markdown",
   "metadata": {
    "pycharm": {},
    "tags": [
     "ST"
    ]
   },
   "source": [
    "### Answer"
   ]
  },
  {
   "cell_type": "markdown",
   "metadata": {},
   "source": [
    "To find $\\mathbf{z}_1$, we must solve $H_f(\\mathbf{z}_0)\\Delta \\mathbf{z} = -\\nabla f(\\mathbf{z}_0)$, where $\\Delta \\mathbf{z}=\\mathbf{z}_1 - \\mathbf{z}_0$, "
   ]
  },
  {
   "cell_type": "markdown",
   "metadata": {},
   "source": [
    "$\\left[\\begin{array}{cc} 2&1\\\\ 1&3 \\end{array}\\right] \\Delta{z} = -\\left[\\begin{array}{c} 2\\\\ 1 \\end{array}\\right]$"
   ]
  },
  {
   "cell_type": "markdown",
   "metadata": {},
   "source": [
    "We could solve this by inverting the $H_f(\\mathbf{z}_0)$, but from simle observation it can be seen that \n",
    "$$\n",
    "\\Delta \\mathbf{z} = \\left[\\begin{array}{c} -1\\\\ 0 \\end{array}\\right]\n",
    "$$\n",
    "solves the equation"
   ]
  },
  {
   "cell_type": "markdown",
   "metadata": {},
   "source": [
    "We can now find the point $$\\mathbf{z_1}=\\mathbf{z_0} + \\Delta \\mathbf{z}=\\left[\\begin{array}{c} 4\\\\ 1 \\end{array}\\right]+\\left[\\begin{array}{c} -1\\\\ 0 \\end{array}\\right] = \\left[\\begin{array}{c} 3\\\\ 1 \\end{array}\\right]$$"
   ]
  },
  {
   "cell_type": "markdown",
   "metadata": {
    "pycharm": {},
    "tags": [
     "HST"
    ]
   },
   "source": [
    "### Problem 1.7"
   ]
  },
  {
   "cell_type": "markdown",
   "metadata": {
    "pycharm": {},
    "tags": [
     "HST"
    ]
   },
   "source": [
    "A classification problem asks to find a classifier $h\\in\\mathcal{H}$ whose domain $X$ and co-domain $Y$ of $h$ are defined as follows:\n",
    "\n",
    "$$\n",
    "X = \\{0, 2, 4, 6, 8, 10\\} \\;\\;\\;\\text{and}\\;\\;\\; Y = \\{0, 1\\}\n",
    "$$\n",
    "\n",
    "and the hypothesis space $\\mathcal{H}$ is the set of the following five functions\n",
    "\n",
    "$$\n",
    "h_k(x) = \\left\\{\\begin{array}{ll}0 & \\mbox{if $x < k$}\\\\\n",
    "1 & \\mbox{otherwise}\\end{array}\\right.\n",
    "\\;\\;\\;\\text{for}\\;\\;\\; k = 1, 3, 5, 7, 9\\;.\n",
    "$$\n",
    "\n",
    "The following tiny training set is given:\n",
    "\n",
    "$$\n",
    "T = \\{(0, 0), (2, 0), (4, 1), (6, 1) \\} \\;.\n",
    "$$\n",
    "\n",
    "Make a table of the training risk $L_T(h_k)$ for $k = 1, 3, 5, 7, 9$.  Express values in percent. Then use the table to determine the optimal classifier $\\hat{h}$ for this training set (thus, we only care about empirical risk here)."
   ]
  },
  {
   "cell_type": "markdown",
   "metadata": {
    "pycharm": {},
    "tags": [
     "ST"
    ]
   },
   "source": [
    "### Answer"
   ]
  },
  {
   "cell_type": "markdown",
   "metadata": {
    "pycharm": {},
    "tags": [
     "T"
    ]
   },
   "source": [
    "$$\n",
    "\\begin{array}{r|ccccc}\n",
    "k & 1 & 3 & 5 & 7 & 9 \\\\\\hline\n",
    "L_T(h_k) & 1/4 & 0 & 1/4 & 1/2 & 1/2 \n",
    "\\end{array}\n",
    "$$\n",
    "\n",
    "The optimal classifier on $T$ is $\\hat{k} = 3$."
   ]
  },
  {
   "cell_type": "markdown",
   "metadata": {
    "pycharm": {},
    "tags": [
     "HST"
    ]
   },
   "source": [
    "### Problem 1.8"
   ]
  },
  {
   "cell_type": "markdown",
   "metadata": {
    "pycharm": {},
    "tags": [
     "HST"
    ]
   },
   "source": [
    "Assume that the probability model $p(x, y)$ for the data in Problem 1.7 is as specified in the table below. The table contains the joint probability $p(x, y)$ with values expressed in percent, rather than as numbers in $[0, 1]$. It has one column per value of $x$ and one row per value of $y$.\n",
    "\n",
    "$$\n",
    "\\begin{array}{c|ccccccc}\n",
    " & 0 & 2 & 4 & 6 & 8 & 10 \\\\\\hline\n",
    "0 & 12 & 11 & 10 & 7 & 6 & 4 \\\\\n",
    "1 & 2 & 4 & 6 & 10 & 12 & 16\n",
    "\\end{array}\n",
    "$$\n",
    "\n",
    "Under the same circumstances as in Problem 1.7, and with the probability model above, make a table of the statistical risk $L_p(h)$ and determine the classifier that generalizes best. Express values in percent."
   ]
  },
  {
   "cell_type": "markdown",
   "metadata": {
    "pycharm": {},
    "tags": [
     "ST"
    ]
   },
   "source": [
    "### Answer"
   ]
  },
  {
   "cell_type": "markdown",
   "metadata": {
    "pycharm": {},
    "tags": [
     "T"
    ]
   },
   "source": [
    "$$\n",
    "\\begin{array}{r|ccccc}\n",
    "k & 1 & 3 & 5 & 7 & 9 \\\\\\hline\n",
    "L_p(h_k) & 40 & 33 & 29 & 32 & 38 \n",
    "\\end{array}\n",
    "$$\n",
    "\n",
    "The classifier that generalizes best is $\\hat{k} = 5$."
   ]
  },
  {
   "cell_type": "markdown",
   "metadata": {
    "pycharm": {},
    "tags": [
     "HST"
    ]
   },
   "source": [
    "## Part 2: Projections"
   ]
  },
  {
   "cell_type": "markdown",
   "metadata": {
    "pycharm": {},
    "tags": [
     "HST"
    ]
   },
   "source": [
    "### Problem 2.1"
   ]
  },
  {
   "cell_type": "markdown",
   "metadata": {
    "pycharm": {},
    "tags": [
     "HST"
    ]
   },
   "source": [
    "What is the shape (number of rows and columns) of $U$? Explain briefly."
   ]
  },
  {
   "cell_type": "markdown",
   "metadata": {
    "pycharm": {},
    "tags": [
     "ST"
    ]
   },
   "source": [
    "### Answer"
   ]
  },
  {
   "cell_type": "markdown",
   "metadata": {},
   "source": [
    "The shape of $U$ is (Rows: m, Columns: m-1). \n",
    "\n",
    "Columns: The number of Columns is simply the number of basis vectors of $\\mathcal{O}(u)$. Since $\\mathcal{O}(u)$ is a subset of $\\mathbb{R}^m$, it cannot have more than m basis vectors. Note that the basis vectors of $\\mathcal{O}(u)$, together with $\\mathbf{b}$, by definition span $\\mathbb{R}^m$. And since we know $\\mathbb{R}$ is m-dimensional, we know it can be spanned by no fewer than m vectors. Since one of these is $\\mathbb{b}$, we conclude that there are m-1 other vectors, and since these span $\\mathcal{O}(u)$, then that matches the number of columns of $U$.\n",
    "\n",
    "Rows: The number of Rows is simply the dimensionality of each of the basis vectors. Since it is defined that 'the space $\\mathcal{O}(u)$ is the set of all vectors in $\\mathcal{R}^m$...' we know the basis vectors must have exactly dimensionality of m."
   ]
  },
  {
   "cell_type": "markdown",
   "metadata": {
    "pycharm": {},
    "tags": [
     "HST"
    ]
   },
   "source": [
    "### Problem 2.2"
   ]
  },
  {
   "cell_type": "markdown",
   "metadata": {
    "pycharm": {},
    "tags": [
     "HST"
    ]
   },
   "source": [
    "Explain clearly how, given $\\mathbf{u}$, you can use the Singular Value Decomposition (SVD) to compute a matrix whose columns form an orthonormal basis for $\\mathcal{O}(\\mathbf{u})$. Also explain why.\n",
    "\n",
    "Then show a basis for $\\mathcal{O}([1, 1, 0]^T)$ using your technique.\n",
    "\n",
    "Give the projection matrix $P$ for this space, and the projection of the vector $\\mathbf{b} = [0, 2, -4]^T$ onto $\\mathcal{O}([1, 1, 0]^T)$.\n",
    "\n",
    "Use whatever code you'd like, but do **not** submit your code. Give your numerical results either exactly (if you can guess what they are) or with four decimal digits after the period.\n",
    "\n",
    "Do **not** use any other techniques, such as Gram-Schmidt."
   ]
  },
  {
   "cell_type": "markdown",
   "metadata": {
    "pycharm": {},
    "tags": [
     "ST"
    ]
   },
   "source": [
    "### Answer"
   ]
  },
  {
   "cell_type": "markdown",
   "metadata": {},
   "source": [
    "We can take advantage of the SVD to find an orthonormal basis of $\\mathcal{O}(u)$. The method I am going to use is simple. For a given $u$ of shape m by 1:\n"
   ]
  },
  {
   "cell_type": "markdown",
   "metadata": {},
   "source": [
    "#### First:"
   ]
  },
  {
   "cell_type": "markdown",
   "metadata": {},
   "source": [
    "Construct a m by m+1 matrix A whose first column is $u$ and the the rest of its columns are the columns of $I_m$.\n",
    "\n",
    "For example, if m=3 and $u = [2, 3, 4]^T$, \n",
    "$$\n",
    "A = \\left[\\begin{array}{ccc}2 & 1 & 0 & 0\\\\3 & 0 & 1 & 0\\\\4 & 0 & 0 & 1 \\end{array}\\right]\n",
    "$$\n",
    "\n",
    "* We realized later this same process could be done without actually appending the identity (aka, simply making A = u). "
   ]
  },
  {
   "cell_type": "markdown",
   "metadata": {},
   "source": [
    "#### Second: "
   ]
  },
  {
   "cell_type": "markdown",
   "metadata": {},
   "source": [
    "Find the SVD of A and store matrix U."
   ]
  },
  {
   "cell_type": "markdown",
   "metadata": {},
   "source": [
    "#### Third: "
   ]
  },
  {
   "cell_type": "markdown",
   "metadata": {},
   "source": [
    "Remove the first column of U, and then you are done. The remaining matrix is the m by m-1 matrix with columns that form an orthonormal basis of $\\mathcal{O}(u)$, as asked."
   ]
  },
  {
   "cell_type": "markdown",
   "metadata": {},
   "source": [
    "#### Why it works:"
   ]
  },
  {
   "cell_type": "markdown",
   "metadata": {},
   "source": [
    "First notice that \n",
    "1. the columns of A span $\\mathbb{R}^m$ (notice it actually does so reduntantly since it has m+1 columns in m dimensional space, but that doesn't matter because they're not a basis). \n",
    "\n",
    "Because of that, there must exist a subset of them that also spans $\\mathbb{R}^m$. In constructing the U matrix from the svd, we note that \n",
    "2. every element of U is unitary, (from the definition of SVD)\n",
    "3. every column of U is orthogonal to each other (from the definition of SVD)\n",
    "\n",
    "An important conclusion from these three facts is that: if one of the columns of U is parallel to $u$, then the others must be an orthonormal basis of $\\mathcal{O}(u)$ (since they are unitary, orthogonal to $u$, to each other, and span the correct space)\n",
    "\n",
    "This means I need to prove that the first column of U is parallel to $u$ and my proof is complete: \n",
    "\n",
    "Since the column space of A and U is the same, the first column of U must correspond to a normalized version of the first column of A, which is $u$, completeing the proof of the algorithm."
   ]
  },
  {
   "cell_type": "markdown",
   "metadata": {},
   "source": [
    "#### Show a Basis of $\\mathcal{O}([1,1,0]^T)$ using this technique (without showing the code):"
   ]
  },
  {
   "cell_type": "markdown",
   "metadata": {},
   "source": [
    "$([0,\\ 0,\\ 1]^T, \\ \\ \\ \\ [-0.7071,\\ 0.7071,\\ 0]^T)$. In this case it's an orthonormal one."
   ]
  },
  {
   "cell_type": "markdown",
   "metadata": {},
   "source": [
    "The Projection matrix can computed by $P=UU^T$, where $U$ is a matrix whose columns are the mentioned orthonormal basis vectors:\n",
    "$$U = \\left[\\begin{array}{cc} 0 & -\\sqrt{2}\\ /2\\\\ 0&\\sqrt{2}\\ /2\\\\ 1&0\\end{array}\\right]$$\n",
    "\n",
    "\n",
    "$$P = \\left[\\begin{array}{ccc} 1/2 & -1/2 & 0\\\\ -1/2&1/2&0\\\\ 0&0&1\\end{array}\\right]$$\n",
    "\n",
    "$$p=Pb = \\left[\\begin{array}{ccc} 1/2 & -1/2 & 0\\\\ -1/2&1/2&0\\\\ 0&0&1\\end{array}\\right] \\left[\\begin{array}{c} 0\\\\ 2\\\\ -4\\end{array}\\right]=\\left[\\begin{array}{c} -1\\\\ 1\\\\ -4\\end{array}\\right]$$"
   ]
  },
  {
   "cell_type": "markdown",
   "metadata": {
    "pycharm": {},
    "tags": [
     "HST"
    ]
   },
   "source": [
    "### Problem 2.3"
   ]
  },
  {
   "cell_type": "markdown",
   "metadata": {
    "pycharm": {},
    "tags": [
     "HST"
    ]
   },
   "source": [
    "For each of the two matrices $U$ and $P$ and the vector $\\mathbf{p}$ you found in the previous problem, state whether the object is unique, and explain briefly why or why not."
   ]
  },
  {
   "cell_type": "markdown",
   "metadata": {
    "pycharm": {},
    "tags": [
     "ST"
    ]
   },
   "source": [
    "### Answer"
   ]
  },
  {
   "cell_type": "markdown",
   "metadata": {},
   "source": [
    "U: NOT unique\n",
    "U is not unique for two reasons. \n",
    "1. The orthonormal basis vectors would still serve as valid orthonormal basis vectors if negated. For example, [1, 0, 0] and [-1, 0, 0] are both valid unitary vectors that span the same subspace. \n",
    "2. The order of permutation of the columns can vary.\n",
    "\n",
    "P: YES unique\n",
    "Despite $U$ not being unique, $P$ is. That is because when multiplying $U$ by $U^T$, the two previous reasons get eliminated:\n",
    "1. Whether or not a vector was negated, does not matter since their elements will get multiplied to each other, meaning that if they're both negated, their product will not be. \n",
    "2. In matrix multiplication, the permutation of columns translates to a permutation in addition of columns. But since addition is commutative, it does not make a difference in P.\n",
    "\n",
    "p: YES unique\n",
    "\n",
    "Since b and P are unique, their matrix multiplication is also unique."
   ]
  },
  {
   "cell_type": "markdown",
   "metadata": {
    "pycharm": {},
    "tags": [
     "HST"
    ]
   },
   "source": [
    "### Problem 2.4"
   ]
  },
  {
   "cell_type": "markdown",
   "metadata": {
    "pycharm": {},
    "tags": [
     "HST"
    ]
   },
   "source": [
    "Compute the matrix $$Q = I - \\mathbf{n}\\mathbf{n}^T$$ for the example given in Problem 2.2.\n",
    "\n",
    "Show $Q$ if it is different from the matrix $P$ you obtained through SVD. Otherwise, just state that the two matrices are the same."
   ]
  },
  {
   "cell_type": "markdown",
   "metadata": {
    "pycharm": {},
    "tags": [
     "ST"
    ]
   },
   "source": [
    "### Answer"
   ]
  },
  {
   "cell_type": "markdown",
   "metadata": {},
   "source": [
    "The two matrices are the same"
   ]
  },
  {
   "cell_type": "markdown",
   "metadata": {
    "pycharm": {},
    "tags": [
     "HST"
    ]
   },
   "source": [
    "## Part 3: Optimization and the SVD"
   ]
  },
  {
   "cell_type": "code",
   "execution_count": 15,
   "metadata": {
    "pycharm": {},
    "tags": [
     "HST"
    ]
   },
   "outputs": [],
   "source": [
    "import numpy as np\n",
    "from scipy.optimize import minimize_scalar\n",
    "\n",
    "def normalize(v):\n",
    "    n = np.linalg.norm(v)\n",
    "    if n > 0:\n",
    "        v = v / n\n",
    "    return v, n\n",
    "\n",
    "# sphere_search returns a new point z1, not a search step size\n",
    "def sphere_step(f, g, z0, epsilon=1.e-6, args=()):\n",
    "    assert epsilon > 0 and epsilon < 1, 'epsilon must be in (0, 1)'\n",
    "    assert z0.size > 1, 'sphere must be at least 2-dimensional'\n",
    "    \n",
    "    n0, delta = 0, 0\n",
    "    while n0 < epsilon:\n",
    "        z0 += delta * np.sqrt(epsilon) * np.random.random(z0.shape)\n",
    "        z0, _ = normalize(z0)\n",
    "        p0 = -g(z0, *args)  # Starting direction\n",
    "        \n",
    "        # Project p0 onto the tangent hyperplane to the sphere at z0 and normalize\n",
    "        s0, n0 = normalize(p0 - np.dot(z0, p0) * z0)\n",
    "        delta = 1\n",
    "    \n",
    "    def h(theta, args):\n",
    "        return f(z0 * np.cos(theta) + s0 * np.sin(theta), args)\n",
    "    \n",
    "    res = minimize_scalar(h, bracket=(0, 1), args=args)\n",
    "    theta = res.x\n",
    "    return z0 * np.cos(theta) + s0 * np.sin(theta)"
   ]
  },
  {
   "cell_type": "markdown",
   "metadata": {
    "pycharm": {},
    "tags": [
     "HST"
    ]
   },
   "source": [
    "### Problem 3.1"
   ]
  },
  {
   "cell_type": "markdown",
   "metadata": {
    "pycharm": {},
    "tags": [
     "HST"
    ]
   },
   "source": [
    "Write a function with the following header and `assert` statements:\n",
    "\n",
    "    def first(A, epsilon=1.e-6, maxiter=10):\n",
    "        assert A.size > 0, 'array cannot be empty'\n",
    "        assert np.max(np.abs(A)) >= epsilon, 'array cannot be zero'\n",
    "\n",
    "that uses `sphere_step` iteratively to return the tuple `u, sigma, v` of the first left singular vector, first singular value, and first right singular vector of `A`.\n",
    "\n",
    "Show your code and the results of running the given tests. You may want to compare your results with those obtained with an off-the-shelf implementation of the SVD. However, do **not** submit your comparison, and do not use SVDs anywhere in your code."
   ]
  },
  {
   "cell_type": "markdown",
   "metadata": {
    "pycharm": {},
    "tags": [
     "ST"
    ]
   },
   "source": [
    "### Answer"
   ]
  },
  {
   "cell_type": "code",
   "execution_count": 113,
   "metadata": {
    "pycharm": {},
    "tags": [
     "T"
    ]
   },
   "outputs": [],
   "source": [
    "def first(A, epsilon=1.e-6, maxiter=10):\n",
    "    assert A.size > 0, 'array cannot be empty'\n",
    "    assert np.max(np.abs(A)) >= epsilon, 'array cannot be zero'\n",
    "    \n",
    "    def f(u, A):\n",
    "        return -np.linalg.norm(np.matmul(A,u))**2\n",
    "\n",
    "    def g(u, A):\n",
    "        return -2*np.matmul(A.T, np.matmul(A,u))\n",
    "    \n",
    "    if np.min(A.shape) < 2:\n",
    "        if A.shape[0] == 1:\n",
    "            sigma = np.linalg.norm(A)\n",
    "            u = np.zeros(1)\n",
    "            u[0] = 1\n",
    "            v = np.squeeze(A/sigma)\n",
    "        else:\n",
    "            sigma = np.linalg.norm(A)\n",
    "            v = np.zeros(1)\n",
    "            v[0] = 1\n",
    "            u = np.squeeze(A/sigma)\n",
    "    else:\n",
    "        v_old = np.zeros(A.shape[1])\n",
    "        diff = epsilon + 1\n",
    "        while diff > epsilon:\n",
    "            v_new = sphere_step(f, g, v_old, epsilon=1.e-6, args=(A,))\n",
    "            diff = np.linalg.norm(v_new - v_old)\n",
    "            v_old = v_new\n",
    "        \n",
    "        v = v_new\n",
    "        sigma = np.linalg.norm(np.matmul(A,v))\n",
    "        u = np.matmul(A,v)/sigma\n",
    "    \n",
    "    return (u, sigma, v)\n",
    "        \n"
   ]
  },
  {
   "cell_type": "code",
   "execution_count": 114,
   "metadata": {
    "pycharm": {},
    "tags": [
     "ST"
    ]
   },
   "outputs": [
    {
     "name": "stdout",
     "output_type": "stream",
     "text": [
      "========== testing first ==========\n",
      "A\n",
      "[[ 1.2247  1.2247]\n",
      " [-2.1213  2.1213]\n",
      " [ 0.7071  0.7071]]\n",
      "\n",
      "u\n",
      "[ 0. -1.  0.]\n",
      "\n",
      "sigma\n",
      "3.0\n",
      "\n",
      "v\n",
      "[ 0.7071 -0.7071]\n",
      "\n",
      "===== using numpy SVD function =====\n",
      "u\n",
      "[-0.  1. -0.]\n",
      "\n",
      "sigma\n",
      "2.9999999999999996\n",
      "\n",
      "v\n",
      "[-0.7071 -0.7071]\n",
      "\n",
      "========== testing first ==========\n",
      "A\n",
      "[[ 2.  0. -1.  3.]\n",
      " [ 4.  0. -2.  6.]\n",
      " [ 6.  0. -3.  9.]]\n",
      "\n",
      "u\n",
      "[0.2673 0.5345 0.8018]\n",
      "\n",
      "sigma\n",
      "14.000000000000002\n",
      "\n",
      "v\n",
      "[ 0.5345  0.     -0.2673  0.8018]\n",
      "\n",
      "===== using numpy SVD function =====\n",
      "u\n",
      "[-0.2673 -0.5345 -0.8018]\n",
      "\n",
      "sigma\n",
      "14.0\n",
      "\n",
      "v\n",
      "[-0.5345  0.2673  0.     -0.8018]\n",
      "\n",
      "========== testing first ==========\n",
      "A\n",
      "[[3.]\n",
      " [0.]\n",
      " [4.]]\n",
      "\n",
      "u\n",
      "[0.6 0.  0.8]\n",
      "\n",
      "sigma\n",
      "5.0\n",
      "\n",
      "v\n",
      "[1.]\n",
      "\n",
      "===== using numpy SVD function =====\n",
      "u\n",
      "[0.6 0.  0.8]\n",
      "\n",
      "sigma\n",
      "5.0\n",
      "\n",
      "v\n",
      "[1.]\n",
      "\n",
      "========== testing first ==========\n",
      "A\n",
      "[[ 4. -3.]]\n",
      "\n",
      "u\n",
      "[1.]\n",
      "\n",
      "sigma\n",
      "5.0\n",
      "\n",
      "v\n",
      "[ 0.8 -0.6]\n",
      "\n",
      "===== using numpy SVD function =====\n",
      "u\n",
      "[-1.]\n",
      "\n",
      "sigma\n",
      "5.0\n",
      "\n",
      "v\n",
      "[-0.8  0.6]\n",
      "\n"
     ]
    }
   ],
   "source": [
    "def test(f, A_list):\n",
    "    def printArray(name, A):\n",
    "        print(name, A, sep='\\n', end='\\n\\n')\n",
    "        \n",
    "    if f.__name__ is 'first':\n",
    "        un, sn, vn = 'u', 'sigma', 'v'\n",
    "        product = False\n",
    "    else:\n",
    "        un, sn, vn = 'U', 'Sigma', 'V'\n",
    "        product = True\n",
    "\n",
    "    np.set_printoptions(precision=4, suppress=True)\n",
    "    \n",
    "    for A in A_list:\n",
    "        U, Sigma, V = f(A)\n",
    "        print('=' * 10, 'testing', f.__name__, '=' * 10)\n",
    "        printArray('A', A)\n",
    "        if product:\n",
    "            printArray(\"U * Sigma * V'\", np.dot(U, np.dot(Sigma, V.T)))\n",
    "        printArray(un, U)\n",
    "        printArray(sn, Sigma)\n",
    "        printArray(vn, V)\n",
    "        \n",
    "        print('=' * 5, 'using numpy SVD function', '=' * 5)\n",
    "        U_real, Sigma_real, V_real = np.linalg.svd(A)\n",
    "        if product:\n",
    "            printArray(un, U_real)\n",
    "            printArray(sn, Sigma_real)\n",
    "            printArray(vn, V_real)\n",
    "        else:\n",
    "            printArray(un, U_real[:,0])\n",
    "            printArray(sn, Sigma_real[0])\n",
    "            printArray(vn, V_real[:,0])\n",
    "s3 = np.sqrt(3)\n",
    "A_list = (np.array([[s3, s3], [-3., 3.], [1., 1.]]) / np.sqrt(2.),\n",
    "          np.outer([1., 2., 3.], [2., 0., -1., 3.]),\n",
    "          np.array([[3.], [0.], [4.]]), np.array([[4., -3.]]))\n",
    "\n",
    "# try:\n",
    "#     test(first, A_list)\n",
    "# except NameError:\n",
    "#     pass\n",
    "test(first, A_list)\n"
   ]
  },
  {
   "cell_type": "markdown",
   "metadata": {
    "pycharm": {},
    "tags": [
     "HST"
    ]
   },
   "source": [
    "### Problem 3.2"
   ]
  },
  {
   "cell_type": "markdown",
   "metadata": {
    "pycharm": {},
    "tags": [
     "HST"
    ]
   },
   "source": [
    "Use your function `first` to write a function with the following header and `assert` statement that computes the \"tiny\" SVD of a non-empty matrix $A$, with the given specifications:\n",
    "\n",
    "    def SVD(A, epsilon=1.e-3, maxiter=10):\n",
    "        assert A.size > 0, 'array cannot be empty'\n",
    "        \n",
    "The function should return the tuple `U, Sigma, V` of the matrices in the \"tiny\" SVD of `A`, and should comply with the programming notes.\n",
    "        \n",
    "Show your code and the results of running the given tests. You may want to compare your results with those obtained with an off-the-shelf implementation of the SVD. However, do **not** submit your comparison. Do not use library SVDs anywhere in your code."
   ]
  },
  {
   "cell_type": "markdown",
   "metadata": {
    "pycharm": {},
    "tags": [
     "ST"
    ]
   },
   "source": [
    "### Answer"
   ]
  },
  {
   "cell_type": "code",
   "execution_count": 119,
   "metadata": {
    "pycharm": {},
    "tags": [
     "T"
    ]
   },
   "outputs": [],
   "source": [
    "def SVD(A, epsilon=1.e-3, maxiter=10):\n",
    "    assert A.size > 0, 'array cannot be empty'\n",
    "    \n",
    "    A_new = A\n",
    "    \n",
    "    U1 = np.zeros(A.shape[0])[:,np.newaxis]\n",
    "    V1 = np.zeros(A.shape[1])[:,np.newaxis]\n",
    "    Sigma1 = np.zeros(1)[np.newaxis]\n",
    "    \n",
    "    while np.max(np.abs(A_new)) > epsilon:\n",
    "        sigma = np.zeros(1)\n",
    "        u, sigma_, v = first(A_new)\n",
    "        sigma[0] = sigma_\n",
    "        U1 = np.concatenate((U1,u[:,np.newaxis]), axis=1)\n",
    "        V1 = np.concatenate((V1,v[:,np.newaxis]), axis=1)\n",
    "        Sigma1 = np.append(Sigma1,sigma_)\n",
    "        A_old = A_new\n",
    "        \n",
    "        v = v[:,np.newaxis]\n",
    "        A_new = A_old - ( np.matmul(A_old, np.matmul(v,v.T)) )\n",
    "    \n",
    "    U = U1[:, 1:]\n",
    "    V = V1[:, 1:]\n",
    "    Sigma = np.diag(Sigma1[1:])\n",
    "    \n",
    "    return (U, Sigma, V)"
   ]
  },
  {
   "cell_type": "code",
   "execution_count": 2,
   "metadata": {
    "pycharm": {},
    "tags": [
     "ST"
    ]
   },
   "outputs": [
    {
     "ename": "NameError",
     "evalue": "name 'np' is not defined",
     "output_type": "error",
     "traceback": [
      "\u001b[0;31m---------------------------------------------------------------------------\u001b[0m",
      "\u001b[0;31mNameError\u001b[0m                                 Traceback (most recent call last)",
      "\u001b[0;32m<ipython-input-2-99cde9b6bc79>\u001b[0m in \u001b[0;36m<module>\u001b[0;34m\u001b[0m\n\u001b[0;32m----> 1\u001b[0;31m \u001b[0ms3\u001b[0m \u001b[0;34m=\u001b[0m \u001b[0mnp\u001b[0m\u001b[0;34m.\u001b[0m\u001b[0msqrt\u001b[0m\u001b[0;34m(\u001b[0m\u001b[0;36m3\u001b[0m\u001b[0;34m)\u001b[0m\u001b[0;34m\u001b[0m\u001b[0;34m\u001b[0m\u001b[0m\n\u001b[0m\u001b[1;32m      2\u001b[0m A_list = (np.array([[s3, s3], [-3., 3.], [1., 1.]]) / np.sqrt(2.),\n\u001b[1;32m      3\u001b[0m           \u001b[0mnp\u001b[0m\u001b[0;34m.\u001b[0m\u001b[0mouter\u001b[0m\u001b[0;34m(\u001b[0m\u001b[0;34m[\u001b[0m\u001b[0;36m1.\u001b[0m\u001b[0;34m,\u001b[0m \u001b[0;36m2.\u001b[0m\u001b[0;34m,\u001b[0m \u001b[0;36m3.\u001b[0m\u001b[0;34m]\u001b[0m\u001b[0;34m,\u001b[0m \u001b[0;34m[\u001b[0m\u001b[0;36m2.\u001b[0m\u001b[0;34m,\u001b[0m \u001b[0;36m0.\u001b[0m\u001b[0;34m,\u001b[0m \u001b[0;34m-\u001b[0m\u001b[0;36m1.\u001b[0m\u001b[0;34m,\u001b[0m \u001b[0;36m3.\u001b[0m\u001b[0;34m]\u001b[0m\u001b[0;34m)\u001b[0m\u001b[0;34m,\u001b[0m\u001b[0;34m\u001b[0m\u001b[0;34m\u001b[0m\u001b[0m\n\u001b[1;32m      4\u001b[0m           np.array([[3.], [0.], [4.]]), np.array([[4., -3.]]))\n\u001b[1;32m      5\u001b[0m \u001b[0;34m\u001b[0m\u001b[0m\n",
      "\u001b[0;31mNameError\u001b[0m: name 'np' is not defined"
     ]
    }
   ],
   "source": [
    "s3 = np.sqrt(3)\n",
    "A_list = (np.array([[s3, s3], [-3., 3.], [1., 1.]]) / np.sqrt(2.),\n",
    "          np.outer([1., 2., 3.], [2., 0., -1., 3.]),\n",
    "          np.array([[3.], [0.], [4.]]), np.array([[4., -3.]]))\n",
    "\n",
    "# try:\n",
    "#     test(SVD, A_list)\n",
    "# except NameError:\n",
    "#     pass\n",
    "\n",
    "test(SVD, A_list)\n"
   ]
  },
  {
   "cell_type": "code",
   "execution_count": null,
   "metadata": {
    "pycharm": {}
   },
   "outputs": [],
   "source": []
  }
 ],
 "metadata": {
  "kernelspec": {
   "display_name": "Python 3",
   "language": "python",
   "name": "python3"
  },
  "language_info": {
   "codemirror_mode": {
    "name": "ipython",
    "version": 3
   },
   "file_extension": ".py",
   "mimetype": "text/x-python",
   "name": "python",
   "nbconvert_exporter": "python",
   "pygments_lexer": "ipython3",
   "version": "3.6.7"
  }
 },
 "nbformat": 4,
 "nbformat_minor": 2
}
