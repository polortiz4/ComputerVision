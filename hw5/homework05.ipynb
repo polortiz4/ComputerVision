{
 "cells": [
  {
   "cell_type": "markdown",
   "metadata": {
    "colab_type": "text",
    "id": "view-in-github"
   },
   "source": [
    "<a href=\"https://colab.research.google.com/github/polortiz4/ComputerVision/blob/master/hw5/homework05.ipynb\" target=\"_parent\"><img src=\"https://colab.research.google.com/assets/colab-badge.svg\" alt=\"Open In Colab\"/></a>"
   ]
  },
  {
   "cell_type": "markdown",
   "metadata": {
    "colab_type": "text",
    "id": "_4pJohDkIbwu",
    "tags": [
     "T"
    ]
   },
   "source": [
    "> **Student Names and IDs**:\n",
    ">\n",
    "> - Pablo Ortiz, 0686443\n",
    "> - Jongwan Park, 0848815"
   ]
  },
  {
   "cell_type": "markdown",
   "metadata": {
    "colab_type": "text",
    "id": "93F4Xn6mIbww",
    "tags": [
     "HST"
    ]
   },
   "source": [
    "# Homework 5"
   ]
  },
  {
   "cell_type": "markdown",
   "metadata": {
    "colab_type": "text",
    "id": "aymIv7MFIbwz",
    "tags": [
     "HST"
    ]
   },
   "source": [
    "## Homework Submission Workflow\n",
    "\n",
    "When you submit your work, follow the instructions on the [submission workflow page](https://www.cs.duke.edu/courses/fall18/compsci371d/homework/workflow.html) for full credit, but see the changes mentioned below.\n",
    "\n",
    "**Important: Failure to do any of the following will result in lost points:**\n",
    "\n",
    "- Submit **one** PDF file and **one** notebook per group\n",
    "\n",
    "- Enter **all the group members** through the Gradescope GUI when you submit your PDF files. It is **not** enough to list group members in your documents\n",
    "\n",
    "- Match each **answer** (not question!) with the appropriate page in Gradescope\n",
    "\n",
    "- Avoid large blank spaces in your PDF file\n",
    "\n",
    "**Important changes to homework preparation workflow:** _This assignment is different from the others in that you are required to run it on the Google Colaboratory, a cloud service that Google makes available for reseach in machine learning. This is necessary because some of the problems require you to train a deep network on hardware that is faster than what is typically available on a standard laptop or desktop, including a high-end GPU. Even if you do have a high-end GPU, please run your notebook on the Colaboratory, so we can grade your work consistently._\n",
    "\n",
    "_**To work on this assignment, go to the [Colaboratory](https://colab.research.google.com) and upload the template notebook for this assignment through the `File` menu at the top of the Colaboratory page. Then work on the assignment, making sure to pay attention to instructions in Part 4 where you are asked to change the runtime type.**_\n",
    "\n",
    "_**When you are done, download the notebook (after making sure that all the outputs from running the code show up properly), and proceed as usual to turn that notebook into a PDF file for submission.**_\n",
    "\n",
    "#### Programming Notes\n",
    "\n",
    "+ The Colaboratory is a cloud service. If a notebook sits idle for a long time, it automatically disconnects from its execution kernel, and you need to rerun all the cells.\n",
    "+ Some of the cells in the Part on neural networks are to be run with different runtime types, as explained later. Because of this, you will not be able to just restart the notebook and run all its cells with a single command. Instead, you need to run the cells one at a time, changing runtime type as instructed. Make sure you do this once you are done with the assignment, making sure that the output from your code matches the text where you describe that output.\n",
    "+ Depending on circumstances, changing the runtime type may erase some or all of the notebook state. This will require you to rerun the cells that generate state.\n",
    "+ Training depends on random initialization of the network parameters. Because of this, your results may vary relative to the sample solution, even if your code is no different. Results may also vary from run to run."
   ]
  },
  {
   "cell_type": "markdown",
   "metadata": {
    "colab_type": "text",
    "id": "gIp6dzlwIbw0",
    "tags": [
     "HST"
    ]
   },
   "source": [
    "## Part 1: Exam-Style Questions, Set 1"
   ]
  },
  {
   "cell_type": "markdown",
   "metadata": {
    "colab_type": "text",
    "id": "6o90sGDiK4aF",
    "tags": [
     "HST"
    ]
   },
   "source": [
    "The small neural net in the figure below uses the ReLU as the nonlinearity at the output of each neuron. The values specified in the hollow circles are biases, and the values along the edges are gains. Weigths number 1, 2, 3 refer to the first neuron, 4, 5,6 to the second, 7, 8, 9 to the third."
   ]
  },
  {
   "cell_type": "markdown",
   "metadata": {
    "colab_type": "text",
    "id": "CakDYmy0Mk13",
    "tags": [
     "HST"
    ]
   },
   "source": [
    "![a simple neural network](https://www2.cs.duke.edu/courses/spring19/compsci527/homework/5/netSimple.png)"
   ]
  },
  {
   "cell_type": "markdown",
   "metadata": {
    "colab_type": "text",
    "id": "tdrtWLQ5JZ7q",
    "tags": [
     "HST"
    ]
   },
   "source": [
    "### Problem 1.1"
   ]
  },
  {
   "cell_type": "markdown",
   "metadata": {
    "colab_type": "text",
    "id": "CacoODWaJdmL",
    "tags": [
     "HST"
    ]
   },
   "source": [
    "Are all the layers in the net above fully connected?"
   ]
  },
  {
   "cell_type": "markdown",
   "metadata": {
    "colab_type": "text",
    "id": "WJ9w1-GpN1FM",
    "tags": [
     "ST"
    ]
   },
   "source": [
    "### Answer"
   ]
  },
  {
   "cell_type": "markdown",
   "metadata": {},
   "source": [
    "Yes"
   ]
  },
  {
   "cell_type": "markdown",
   "metadata": {
    "colab_type": "text",
    "id": "4o_0Co16OJ-v",
    "tags": [
     "HST"
    ]
   },
   "source": [
    "### Problem 1.2"
   ]
  },
  {
   "cell_type": "markdown",
   "metadata": {
    "colab_type": "text",
    "id": "WmVrDJydN7OP",
    "tags": [
     "HST"
    ]
   },
   "source": [
    "What is the output $y$ from the net above when the input is as follows?\n",
    "\n",
    "$$\n",
    "x_1 = 0 \\;\\;\\; \\text{and}\\;\\;\\; x_2 = 3\n",
    "$$"
   ]
  },
  {
   "cell_type": "markdown",
   "metadata": {
    "colab_type": "text",
    "id": "G-LZGjFMORa8",
    "tags": [
     "ST"
    ]
   },
   "source": [
    "### Answer"
   ]
  },
  {
   "cell_type": "markdown",
   "metadata": {},
   "source": [
    "$$\n",
    "\\begin{align}\n",
    "y &= w_7 ReLU(w_1 x_1 + w_2 x_2 + w_3) + w_8 ReLU(w_4 x_1 + w_5 x_2 + w_6) + w_9\\\\\n",
    "&= -1*ReLU(1*0 + -2*3 + 0) + 1*ReLU(2*0 + 1*3 + 0) + 1 = 0 + 3 + 1 \\\\\n",
    "&= 4.\n",
    "\\end{align}\n",
    "$$"
   ]
  },
  {
   "cell_type": "markdown",
   "metadata": {
    "colab_type": "text",
    "id": "rP4qW1wUQapl",
    "tags": [
     "HST"
    ]
   },
   "source": [
    "### Problem 1.3"
   ]
  },
  {
   "cell_type": "markdown",
   "metadata": {
    "colab_type": "text",
    "id": "2WZXG8wNQeJ5",
    "tags": [
     "HST"
    ]
   },
   "source": [
    "What is the gradient $\\mathbf{g}$ of the output $y$ of the network above with respect to the weight vector\n",
    "\n",
    "$$\n",
    "\\mathbf{w} = [w_1,\\ w_2,\\ w_3,\\ w_4,\\ w_5,\\ w_6,\\ w_7,\\ w_8,\\ w_9]^T\n",
    "$$\n",
    "\n",
    "when the input has the values given in the previous problem? Just give the result if you are confident of your answer."
   ]
  },
  {
   "cell_type": "markdown",
   "metadata": {
    "colab_type": "text",
    "id": "5fVXbN93RDq7",
    "tags": [
     "ST"
    ]
   },
   "source": [
    "### Answer"
   ]
  },
  {
   "cell_type": "markdown",
   "metadata": {},
   "source": [
    "Define:\n",
    "\n",
    "$$\n",
    "\\begin{align*}\n",
    "z_1 &= w_1 x_1 + w_2 x_2 + w_3 \\\\\n",
    "&= 3w_2 + w_3, \\\\\n",
    "z_2 &= w_4 x_1 + w_5 x_2 + w_6 \\\\\n",
    "&= 3w_5 + w_6. \n",
    "\\end{align*}\n",
    "$$\n",
    "\n",
    "Then,\n",
    "\n",
    "$$\n",
    "\\begin{align*}\n",
    "\\frac{\\partial y}{\\partial \\mathbf{w}} &=\n",
    "\\left[\\begin{array}@\n",
    "\\frac{\\partial y}{\\partial w_1}\\;\\;\n",
    "\\frac{\\partial y}{\\partial w_2}\\;\\;\n",
    "\\frac{\\partial y}{\\partial w_3}\\;\\;\n",
    "\\frac{\\partial y}{\\partial w_4}\\;\\;\n",
    "\\frac{\\partial y}{\\partial w_5}\\;\\;\n",
    "\\frac{\\partial y}{\\partial w_6}\\;\\;\n",
    "\\frac{\\partial y}{\\partial w_7}\\;\\;\n",
    "\\frac{\\partial y}{\\partial w_8}\\;\\;\n",
    "\\frac{\\partial y}{\\partial w_9}\n",
    "\\end{array}\\right]\\\\\n",
    "&= \\left[\\begin{array}@\n",
    "0\\;\\;\n",
    "3 w_7 H(z_1)\\;\\;\n",
    "w_7 H(z_1)\\;\\;\n",
    "0\\;\\;\n",
    "3 w_8 H(z_2)\\;\\;\n",
    "w_8 H(z_2)\\;\\;\n",
    "ReLU(z_1)\\;\\;\n",
    "ReLU(z_2)\\;\\;\n",
    "1\n",
    "\\end{array}\\right],\\;\n",
    "\\end{align*}\n",
    "$$\n",
    "\n",
    "where $H(\\cdot)$ is the Heaviside unit step function with\n",
    "\n",
    "$$\n",
    "H(x) =\n",
    "\\begin{cases}\n",
    "    1,& \\text{if } x>0\\\\\n",
    "    0,              & \\text{otherwise}\n",
    "\\end{cases}.\n",
    "$$\n"
   ]
  },
  {
   "cell_type": "markdown",
   "metadata": {
    "colab_type": "text",
    "id": "j_-dO56ledsy",
    "tags": [
     "HST"
    ]
   },
   "source": [
    "\n",
    "## Part 2: Exam-Style Questions, Set 2\n",
    "\n",
    "\n"
   ]
  },
  {
   "cell_type": "markdown",
   "metadata": {
    "colab_type": "text",
    "id": "CWV3624YZjhu",
    "tags": [
     "HST"
    ]
   },
   "source": [
    "Let $\\mathbf{p} = f(\\mathbf{x})$ be the output of the network's soft-max layer of some neural network classifier with $K$ layers when the network's input is $\\mathbf{x}$. The classifier's output is then\n",
    "\n",
    "$$\n",
    "\\hat{y} = \\arg\\max \\mathbf{p}\\;.\n",
    "$$\n",
    "\n",
    "If $y_n$ is the true label corresponding to training input $\\mathbf{x}_n$, the loss is $\\ell_n = \\ell(y_n, f(\\mathbf{x}_n))$ for some appropriate loss function $\\ell(y, \\mathbf{p})$.\n",
    "\n",
    "We saw in class that if $\\mathbf{x}^{(k)}$ is the output from layer $k$ and $\\mathbf{w}^{(k)}$ is a vector with all the parameters in layer $k$, then back-propagation computes the partial derivatives by the following recursion,  where $\\mathbf{x}^{(0)} = \\mathbf{x}$ is the input to the network and $\\mathbf{x}^{(K)} = \\mathbf{p}$:\n",
    "\n",
    "\\begin{eqnarray*}\n",
    "\\frac{\\partial \\ell_n}{\\partial \\mathbf{w}^{(k)}} &=& \\frac{\\partial \\ell_n}{\\partial \\mathbf{x}^{(k)}} \\frac{\\partial \\mathbf{x}^{(k)}}{\\partial \\mathbf{w}^{(k)}}\n",
    "\\;\\;\\;\\text{for}\\;\\;\\; k = K,\\ldots, 1 \\\\\n",
    "\\frac{\\partial \\ell_n}{\\partial \\mathbf{x}^{(k-1)}} &=& \\frac{\\partial \\ell_n}{\\partial \\mathbf{x}^{(k)}} \\frac{\\partial \\mathbf{x}^{(k)}}{\\partial \\mathbf{x}^{(k-1)}}\n",
    "\\;\\;\\;\\text{for}\\;\\;\\; k = K,\\ldots, 2\\\\\n",
    "\\frac{\\partial \\ell_n}{\\partial \\mathbf{x}^{(K)}} &=& \\frac{\\partial \\ell}{\\partial \\mathbf{p}}\n",
    "\\end{eqnarray*}\n",
    "\n",
    "The derivatives above are computed for the $n$-th training sample $(\\mathbf{x}_n, y_n)$ and for the values of $\\mathbf{w}^{(k)}$ that are current at any given point during training."
   ]
  },
  {
   "cell_type": "markdown",
   "metadata": {
    "colab_type": "text",
    "id": "cNK7pnfDesaH",
    "tags": [
     "HST"
    ]
   },
   "source": [
    "### Problem 2.1"
   ]
  },
  {
   "cell_type": "markdown",
   "metadata": {
    "colab_type": "text",
    "id": "vY-vJZ_Peu9c",
    "tags": [
     "HST"
    ]
   },
   "source": [
    "Suppose that the network has only fully-connected layers (with ReLU nonlinearities) before the soft-max. Refer in detail to the equations given above to explain clearly why training would not work if the parameter vector $\\mathbf{w} = [\\mathbf{w}^{(1)},\\ldots, \\mathbf{w}^{(K)}]^T$ is initialized with zeros for training."
   ]
  },
  {
   "cell_type": "markdown",
   "metadata": {},
   "source": [
    "### Answer"
   ]
  },
  {
   "cell_type": "markdown",
   "metadata": {},
   "source": [
    "Because this network is connected via ReLU activated nonlinearities:\n",
    "\n",
    "$$\\mathbf{x}^{(k)} = ReLU(\\mathbf{w}^{(k)}_{1}*\\mathbf{x}^{(k-1)}+\\mathbf{w}^{(k)}_{2})\\;\\text{for}\\;\\; k = K-1,\\ldots, 2$$\n",
    "\n",
    "From this, we compute the value of $$\\mathbf{x}^{(k)} = ReLU(0*\\mathbf{x}^{(k-1)} + 0)=0\\;\\text{for}\\;\\; k = K-1,\\ldots, 2$$\n",
    "\n",
    "As the equation in the cell above demonstrates, it is necessary to have the term \n",
    "\n",
    "$\\frac{\\partial \\mathbf{x}^{(k)}}{\\partial \\mathbf{x}^{(k-1)}}\n",
    "\\;\\;\\;\\text{defined for}\\;\\;\\; k = K,\\ldots, 2$\n",
    "\n",
    "When trying to compute such derivative:\n",
    "$$\\mathbf{x}^{(k)} = ReLU(\\mathbf{w}^{(k)}_{1}*\\mathbf{x}^{(k-1)}+\\mathbf{w}^{(k)}_{2})$$\n",
    "By the chain rule:\n",
    "$$\\frac{\\partial \\mathbf{x}^{(k)}}{\\partial \\mathbf{x}^{(k-1)}} = \\frac{\\partial ReLU(\\mathbf{w}^{(k)}_{1}*\\mathbf{x}^{(k-1)}+\\mathbf{w}^{(k)}_{2})}{\\partial {x}^{(k-1)}}=\\mathbf{w}^{(k)}_{1}*\\frac{\\partial ReLU(\\mathbf{w}^{(k)}_{1}*\\mathbf{x}^{(k-1)}+\\mathbf{w}^{(k)}_{2})}{\\partial \\mathbf{w}^{(k)}_{1}*\\mathbf{x}^{(k-1)}+\\mathbf{w}^{(k)}_{2}} $$\n",
    "For simplicity, let us define \n",
    "$$\\mathbf{z}^{(k)}=\\mathbf{w}^{(k)}_{1}*\\mathbf{x}^{(k-1)}+\\mathbf{w}^{(k)}_{2}$$\n",
    "With this, we re-write the equation into:\n",
    "$$\\frac{\\partial \\mathbf{x}^{(k)}}{\\partial \\mathbf{x}^{(k-1)}} =\\mathbf{w}^{(k)}_{1}*\\frac{\\partial ReLU(\\mathbf{z}^{(k)})}{\\partial \\mathbf{z}^{(k)}} $$\n",
    "\n",
    "At this point, we start to see problems with the training: $\\mathbf{z}^{(k)}=0$, and the derivative of the ReLU at 0 is not defined as the function is not differentiable at this point, meaning that the backpropagation calculations can not be computed at this point. \n",
    "A workaround at this point could be worked out however, by choosing the derivative to be either 1 or 0... Let's proceed to see if doing this would fix the issue.. In either case, \n",
    "$$\\frac{\\partial \\mathbf{x}^{(k)}}{\\partial \\mathbf{x}^{(k-1)}} =\\mathbf{w}^{(k)}_{1}*\\frac{\\partial ReLU(\\mathbf{z}^{(k)})}{\\partial \\mathbf{z}^{(k)}}=0 $$\n",
    "since $$\\mathbf{w}^{(k)}_{1}=0$$\n",
    "We evaluate the expression:\n",
    "\\begin{eqnarray*}\n",
    "\\frac{\\partial \\ell_n}{\\partial \\mathbf{x}^{(k-1)}} &=& \\frac{\\partial \\ell_n}{\\partial \\mathbf{x}^{(k)}} \\frac{\\partial \\mathbf{x}^{(k)}}{\\partial \\mathbf{x}^{(k-1)}}\n",
    "\\;\\;\\;\\text{for}\\;\\;\\; k = K,\\ldots, 2\n",
    "\\end{eqnarray*}\n",
    "\n",
    "$$\\frac{\\partial \\ell_n}{\\partial \\mathbf{x}^{(k-1)}} = 0$$"
   ]
  },
  {
   "cell_type": "markdown",
   "metadata": {},
   "source": [
    "We proceed with a similar analysis for the first equation from two cells above: \n",
    "$$\\frac{\\partial \\ell_n}{\\partial \\mathbf{w}^{(k)}} = \\frac{\\partial \\ell_n}{\\partial \\mathbf{x}^{(k)}} \\frac{\\partial \\mathbf{x}^{(k)}}{\\partial \\mathbf{w}^{(k)}}\n",
    "\\;\\;\\;\\text{for}\\;\\;\\; k = K,\\ldots, 1 $$\n",
    "where, from the cell above we can conclude that:\n",
    "$$\\frac{\\partial \\ell_n}{\\partial \\mathbf{w}^{(k)}} = 0*\\frac{\\partial \\mathbf{x}^{(k)}}{\\partial \\mathbf{w}^{(k)}}=0\n",
    "\\;\\;\\;\\text{for}\\;\\;\\; k = K-1,\\ldots, 1 $$\n",
    "The only case where there can be a non-zero gradient is for k = K\n",
    "\n",
    "We work to evaluate $$\\frac{\\partial \\mathbf{x}^{(K)}}{\\partial \\mathbf{w}^{(K)}}$$\n",
    "through the equation \n",
    "$$\\mathbf{x}^{(K)} = softMax(\\mathbf{w}^{(K)}_{1}*\\mathbf{x}^{(K-1)}+\\mathbf{w}^{(K)}_{2})$$\n",
    "we obtain\n",
    "$$\\frac{\\partial \\mathbf{x}^{(K)}}{\\partial \\mathbf{w}^{(K)}_1}=\\mathbf{x}^{(K-1)}*\\frac{\\partial softMax(\\mathbf{z}^{(K)})}{\\partial \\mathbf{z}^{(K)}}$$\n",
    "\n",
    "$$\\frac{\\partial \\mathbf{x}^{(K)}}{\\partial \\mathbf{w}^{(K)}_2}=\\frac{\\partial softMax(\\mathbf{z}^{(K)})}{\\partial \\mathbf{z}^{(K)}}$$\n",
    "After that, since\n",
    "$$\\mathbf{x}^{(K-1)} = ReLU(\\mathbf{w}^{(K-1)}_1*\\mathbf{x}^{(K-2)} + \\mathbf{w}^{(K-1)}_2)=0$$\n",
    "$$\\frac{\\partial \\mathbf{x}^{(K)}}{\\partial \\mathbf{w}^{(K)}_{1}}=0*\\frac{\\partial softMax(\\mathbf{z}^{(K)})}{\\partial \\mathbf{z}^{(K)}}=0$$\n",
    "and\n",
    "$$\\frac{\\partial \\ell_n}{\\partial \\mathbf{w}^{(K)}_{1}} =\\frac{\\partial \\ell_n}{\\partial \\mathbf{x}^{(K)}}*0=0$$\n",
    "\n",
    "This shows that the gain of the last layer has a gradient of 0 on the loss function, just like all of the weights in the previous layers.\n",
    "\n",
    "After the above analysis, the only possible parameter that can have a non-zero gradient is the bias in the very last layer: $\\mathbf{w}^{(K)}_{2}$. \n",
    "$$\\frac{\\partial \\ell_n}{\\partial \\mathbf{w}^{(K)}_{2}}=\\frac{\\partial \\ell_n}{\\partial \\mathbf{x}^{(K)}} \\frac{\\partial softMax(\\mathbf{z}^{(K)})}{\\partial \\mathbf{z}^{(K)}} = \\frac{\\partial \\ell}{\\partial \\mathbf{p}} \\frac{\\partial softMax(\\mathbf{z}^{(K)})}{\\partial \\mathbf{z}^{(K)}}$$\n",
    "This expression is not necessarily 0, as a matter of fact, it's almost certainly not 0 (depends on the definition of the loss function and/or whether the ground truth values are just zeros).\n",
    "\n",
    "Since we have a parameter with a non-zero gradient, the algorithm can optimize it. But even after the algorithm tweaks this parameter, the analysis in this cell and the previous one will still hold on the rest of parameters, meaning this bias (or biases, depending on the number of neurons in the last layer) will be the only parameter that will be changed in the optimization--rendering the neural network useless for all other weights.\n",
    "\n",
    "Reminder: The algorithm won't change parameters with a loss gradient of zero--it treats them as local minima. Remember that the magnitude of variation in a parameter from iteration to iteration is set by the derivative of the loss function on it--which is why none of our weights will change (other than $\\mathbf{w}^{(K)}_{2}$)."
   ]
  },
  {
   "cell_type": "markdown",
   "metadata": {
    "colab_type": "text",
    "id": "2Vx-msEHjfdn",
    "tags": [
     "HST"
    ]
   },
   "source": [
    "### Problem 2.2"
   ]
  },
  {
   "cell_type": "markdown",
   "metadata": {
    "colab_type": "text",
    "id": "NJnaTzLfjiGt",
    "tags": [
     "HST"
    ]
   },
   "source": [
    "A neural net classifier with only fully-connected layers (with ReLU nonlinearities) and a soft-max layer at its output has parameter vector $\\mathbf{w}$, and the network implements the function $f(\\mathbf{x}, \\mathbf{w})$ for any network input $\\mathbf{x}$. Is $\\mathbf{w} = \\mathbf{0}$ a stationary point for the function $\\phi(\\mathbf{w}) = f(\\mathbf{x}, \\mathbf{w})$ when $\\mathbf{x}$ is fixed? Justify your answer."
   ]
  },
  {
   "cell_type": "markdown",
   "metadata": {
    "colab_type": "text",
    "id": "OxjAkNkzkDHo",
    "tags": [
     "ST"
    ]
   },
   "source": [
    "### Answer"
   ]
  },
  {
   "cell_type": "markdown",
   "metadata": {},
   "source": [
    "This answer depends on whether the neural network has bias weights or not.\n",
    "\n",
    "- If the network does not include biases:\n",
    "    Yes, this is a stationary point because the gradient of the loss function from every single weight in the system is 0 (see answer from previous problem).\n",
    "    \n",
    "    \n",
    "- If the network includes biases in its weights:\n",
    "    No, as shown in the previous problem's answer, the bias from the very last layer will have a non-zero gradient and therefore this will not be a stationary point and it will optimize for that weight."
   ]
  },
  {
   "cell_type": "markdown",
   "metadata": {
    "colab_type": "text",
    "id": "Rla5OsKGk1zi",
    "tags": [
     "HST"
    ]
   },
   "source": [
    "### Problem 2.3"
   ]
  },
  {
   "cell_type": "markdown",
   "metadata": {
    "colab_type": "text",
    "id": "lE3Uoh6Hk5jp",
    "tags": [
     "HST"
    ]
   },
   "source": [
    "Stochastic gradient descent with momentum is used to train a certain neural network with $m$ parameters. Just before iteration $t$ of training is performed, the parameter vector has value $\\mathbf{w}_t$, and the velocity (or step) is $\\mathbf{v}_t = \\mathbf{a}$, where $\\mathbf{a}$ is some nonzero vector in $\\mathbb{R}^m$ (refer to the class notes for notation). The momentum coefficient is kept constant at $\\mu = 0.9$ throughout training. If the risk function has a saddle point at $\\mathbf{w}_t$, what is the step $\\mathbf{v}_{t+1}$ at iteration $t$?"
   ]
  },
  {
   "cell_type": "markdown",
   "metadata": {
    "colab_type": "text",
    "id": "qTU6DAPRn1hN",
    "tags": [
     "ST"
    ]
   },
   "source": [
    "### Answer"
   ]
  },
  {
   "cell_type": "markdown",
   "metadata": {},
   "source": [
    "Since the risk function is a saddle point, $\\nabla L_{T}(\\mathbf{w}_{t})=0$ \n",
    "$$\\mathbf{v}_{t+1} = \\mu_{t}\\mathbf{v}_{t}-\\alpha \\nabla L_{T}(\\mathbf{w}_{t})=0.9\\mathbf{a}-\\alpha*0=0.9\\mathbf{a}$$"
   ]
  },
  {
   "cell_type": "markdown",
   "metadata": {
    "colab_type": "text",
    "id": "QwMq7SK4nFwU",
    "tags": [
     "HST"
    ]
   },
   "source": [
    "### Problem 2.4"
   ]
  },
  {
   "cell_type": "markdown",
   "metadata": {
    "colab_type": "text",
    "id": "iEaE7twinHyl",
    "tags": [
     "HST"
    ]
   },
   "source": [
    "A friend of yours argues that in the situation described in the previous problem, the steps after iteration $t$ decay exponentially. Her argument is based on the fact that the risk is at a saddle point at $\\mathbf{w}_t$, and the momentum coefficient is constant, so that $\\mathbf{v}_{t+\\tau} = \\mu^{\\tau}\\mathbf{a}$, an exponential decay. Explain why your friend's argument is wrong."
   ]
  },
  {
   "cell_type": "markdown",
   "metadata": {},
   "source": [
    "### Answer"
   ]
  },
  {
   "cell_type": "markdown",
   "metadata": {},
   "source": [
    "Her argument is wrong because after iteration t, we will have overshot the saddle point and at the next iteration we will no longer be in a saddle point, which is the basis of her argument."
   ]
  },
  {
   "cell_type": "markdown",
   "metadata": {
    "colab_type": "text",
    "id": "lfRyRIt3qCoz",
    "tags": [
     "HST"
    ]
   },
   "source": [
    "### Problem 2.5"
   ]
  },
  {
   "cell_type": "markdown",
   "metadata": {
    "colab_type": "text",
    "id": "RWfz9zLXqFAV",
    "tags": [
     "HST"
    ]
   },
   "source": [
    "In the situation described in Problem 2.3, will the training algorithm always eventually converge back towards $\\mathbf{w}_t$? Explain your answer briefly and clearly."
   ]
  },
  {
   "cell_type": "markdown",
   "metadata": {
    "colab_type": "text",
    "id": "zv-spO4mqZcT",
    "tags": [
     "ST"
    ]
   },
   "source": [
    "### Answer"
   ]
  },
  {
   "cell_type": "markdown",
   "metadata": {},
   "source": [
    "No. If the momentum variable is very large, the energy of the step in iteration t might be so strong that it moves away from the valley that the local saddle is located--moving to a different local minimum.\n",
    "Additionally, the saddle is not necessarily a local minimum, in which case overshooting it could simply mean that the algorithm entered a gradient that is already stepping away from that point $\\mathbf{w}_{t}$"
   ]
  },
  {
   "cell_type": "markdown",
   "metadata": {
    "colab_type": "text",
    "id": "5AMarkOTyVt3",
    "tags": [
     "HST"
    ]
   },
   "source": [
    "## Part 3: Exam-Style Questions, Set 3"
   ]
  },
  {
   "cell_type": "markdown",
   "metadata": {
    "colab_type": "text",
    "id": "74EwMXGkyYgz",
    "tags": [
     "HST"
    ]
   },
   "source": [
    "The following problems take you through the computation of the set of all least-squares solutions to the following linear system:\n",
    "\n",
    "\\begin{eqnarray*}\n",
    "3x + 4y &=& 2\\\\\n",
    "3x + 4y &=& 3\n",
    "\\end{eqnarray*}\n",
    "\n",
    "and the solutions to a related optimization problem.\n",
    "All the answers to the questions in this problem are numerical and exact. They refer only to the data given in the problem, and no more general answers are required. You may leave your answers in the form of fractions, with expressions like the following:\n",
    "\n",
    "$$\n",
    "\\frac{\\sqrt{3}}{2} \\left[\\begin{array}{c} 2\\\\-5\\end{array}\\right]\\;,\n",
    "$$\n",
    "\n",
    "but please simplify as much as possible.\n",
    "\n",
    "_As usual, it is easiest to answer these questions using software (and perhaps guess the exact values from the approximate ones output by your code). However, this would rob you of the opportunity to understand this material and to practice for the exam. **In any event, no answers will be accepted to problems in this part that embed software in your submission.**_\n"
   ]
  },
  {
   "cell_type": "markdown",
   "metadata": {
    "colab_type": "text",
    "id": "ac8j8SGdzDr9",
    "tags": [
     "HST"
    ]
   },
   "source": [
    "### Problem 3.1"
   ]
  },
  {
   "cell_type": "markdown",
   "metadata": {
    "colab_type": "text",
    "id": "9R-zasYizH16",
    "tags": [
     "HST"
    ]
   },
   "source": [
    "What are $A$ and $\\mathbf{b}$ if we write the system in this problem in the following form?\n",
    "$$\n",
    "A \\mathbf{x} = \\mathbf{b}\n",
    "$$"
   ]
  },
  {
   "cell_type": "markdown",
   "metadata": {
    "colab_type": "text",
    "id": "v6jJC2xuzKS5",
    "tags": [
     "ST"
    ]
   },
   "source": [
    "### Answer"
   ]
  },
  {
   "cell_type": "markdown",
   "metadata": {},
   "source": [
    "$$\n",
    "A = \\left[\\begin{array}\n",
    "& 3 & 4 \\\\\n",
    "3 & 4\n",
    "\\end{array}\\right],\\\\\n",
    "b = \\left[\\begin{array}\n",
    "& 2 \\\\\n",
    "3\n",
    "\\end{array}\\right].\\\\\n",
    "$$"
   ]
  },
  {
   "cell_type": "markdown",
   "metadata": {
    "colab_type": "text",
    "id": "eJoEvX1bzPDh",
    "tags": [
     "HST"
    ]
   },
   "source": [
    "### Problem 3.2"
   ]
  },
  {
   "cell_type": "markdown",
   "metadata": {
    "colab_type": "text",
    "id": "zA4CavTxzReO",
    "tags": [
     "HST"
    ]
   },
   "source": [
    "What is the rank of $A$?"
   ]
  },
  {
   "cell_type": "markdown",
   "metadata": {
    "colab_type": "text",
    "id": "aplEQX65zUHW",
    "tags": [
     "ST"
    ]
   },
   "source": [
    "### Answer"
   ]
  },
  {
   "cell_type": "markdown",
   "metadata": {},
   "source": [
    "$$\n",
    "A = \\left[\\begin{array}\n",
    "& 3 & 4 \\\\\n",
    "3 & 4\n",
    "\\end{array}\\right] \\Rightarrow \\left[\\begin{array}\n",
    "& 3 & 4 \\\\\n",
    "0 & 0\n",
    "\\end{array}\\right]\n",
    "$$\n",
    "\n",
    "$$\n",
    "\\therefore \\; rank(A) = 1.\n",
    "$$"
   ]
  },
  {
   "cell_type": "markdown",
   "metadata": {
    "colab_type": "text",
    "id": "KOrmLSUVzWM6",
    "tags": [
     "HST"
    ]
   },
   "source": [
    "### Problem 3.3"
   ]
  },
  {
   "cell_type": "markdown",
   "metadata": {
    "colab_type": "text",
    "id": "MUH5dslBzapt",
    "tags": [
     "HST"
    ]
   },
   "source": [
    "Give a _unit_ column vector $\\mathbf{r}$ that spans the row space of $A$."
   ]
  },
  {
   "cell_type": "markdown",
   "metadata": {
    "colab_type": "text",
    "id": "p7vpRTgKzfEi",
    "tags": [
     "ST"
    ]
   },
   "source": [
    "### Answer"
   ]
  },
  {
   "cell_type": "markdown",
   "metadata": {},
   "source": [
    "Since \n",
    "\n",
    "$$\n",
    "Row(A) = Col(A^T) = Col\\left\\{{\\left[\\begin{array}\n",
    "& 3 & 3 \\\\\n",
    "4 & 4\n",
    "\\end{array}\\right]}\\right\\},\\\\\n",
    "$$\n",
    "\n",
    "we have\n",
    "\n",
    "$$\n",
    "Row(A) = Span \\left\\{ \\mathbf{r} \\right\\},\\;\\;\\; \\mathbf{r} = \\left[\\begin{array}{c} 3/5 \\\\ 4/5\n",
    "\\end{array}\\right].\n",
    "$$"
   ]
  },
  {
   "cell_type": "markdown",
   "metadata": {
    "colab_type": "text",
    "id": "DbW0YgUWzjQc",
    "tags": [
     "HST"
    ]
   },
   "source": [
    "### Problem 3.4"
   ]
  },
  {
   "cell_type": "markdown",
   "metadata": {
    "colab_type": "text",
    "id": "q6kAPv09zlWk",
    "tags": [
     "HST"
    ]
   },
   "source": [
    "Give a _unit_ column vector $\\mathbf{n}$ that spans the null space of $A$."
   ]
  },
  {
   "cell_type": "markdown",
   "metadata": {
    "colab_type": "text",
    "id": "23yZJ6GCzo2K",
    "tags": [
     "ST"
    ]
   },
   "source": [
    "### Answer"
   ]
  },
  {
   "cell_type": "markdown",
   "metadata": {},
   "source": [
    "From\n",
    "\n",
    "$$\n",
    "A\\mathbf{x} = \\mathbf{0},\n",
    "$$\n",
    "\n",
    "we get\n",
    "\n",
    "$$\n",
    "3x_1 + 4x_2 = 0\\Leftrightarrow x_1 = -\\frac{4}{3}x_2, \\\\\n",
    "\\mathbf{x} = x_2\\left[\\begin{array}{c}\n",
    "-4/3 \\\\\n",
    "1\n",
    "\\end{array}\\right].\n",
    "$$\n",
    "\n",
    "Therefore,\n",
    "\n",
    "$$\n",
    "Nul(A) = Span \\left\\{ \\mathbf{n} \\right\\},\\;\\;\\; \\mathbf{n} = \\left[\\begin{array}{c} -4/5 \\\\ 3/5\n",
    "\\end{array}\\right].\n",
    "$$"
   ]
  },
  {
   "cell_type": "markdown",
   "metadata": {
    "colab_type": "text",
    "id": "nOm2a0USzwU0",
    "tags": [
     "HST"
    ]
   },
   "source": [
    "### Problem 3.5"
   ]
  },
  {
   "cell_type": "markdown",
   "metadata": {
    "colab_type": "text",
    "id": "cMNnKIARzyfL",
    "tags": [
     "HST"
    ]
   },
   "source": [
    "Write the matrix $V$ in the SVD $A = U\\Sigma V^T$ of $A$."
   ]
  },
  {
   "cell_type": "markdown",
   "metadata": {
    "colab_type": "text",
    "id": "c7U8WqRUz0ct",
    "tags": [
     "ST"
    ]
   },
   "source": [
    "### Answer"
   ]
  },
  {
   "cell_type": "markdown",
   "metadata": {},
   "source": [
    "Taking SVD of $A\\in\\mathbb{R}^{2\\times2}$ yields:\n",
    "\n",
    "$$\n",
    "\\begin{align}\n",
    "A &= U\\Sigma V^T \\\\\n",
    "&= \n",
    "[\\mathbf{u}_1\\;\\mathbf{u}_2]\n",
    "\\left[\\begin{array}{cc} \\sigma_1 & 0 \\\\ 0 & \\sigma_2=0 \\end{array}\\right]\n",
    "\\left[\\begin{array}{c} \\mathbf{v}_1^T \\\\ \\mathbf{v}_2^T \\end{array}\\right].\n",
    "\\end{align}\n",
    "$$\n",
    "\n",
    "Since $\\mathbf{v}_1$ spans $Row(A)$ and $\\mathbf{v}_2$ spans $Nul(A)$,\n",
    "\n",
    "$$\n",
    "V = \\left[\\begin{array}{cc} 3/5 & -4/5 \\\\ 4/5 & 3/5 \\end{array}\\right].\n",
    "$$"
   ]
  },
  {
   "cell_type": "markdown",
   "metadata": {
    "colab_type": "text",
    "id": "zk41d7sBz5GS",
    "tags": [
     "HST"
    ]
   },
   "source": [
    "### Problem 3.6"
   ]
  },
  {
   "cell_type": "markdown",
   "metadata": {
    "colab_type": "text",
    "id": "ZK3cYMIkz7Jc",
    "tags": [
     "HST"
    ]
   },
   "source": [
    "Compute the matrices $U$ and $\\Sigma$ in the SVD of $A$. [Hint: compute $U\\Sigma$ first.]"
   ]
  },
  {
   "cell_type": "markdown",
   "metadata": {
    "colab_type": "text",
    "id": "T3ZNlDaUz9gQ",
    "tags": [
     "ST"
    ]
   },
   "source": [
    "### Answer"
   ]
  },
  {
   "cell_type": "markdown",
   "metadata": {},
   "source": [
    "Since $\\mathbf{u}_1$ spans $Col(A)$, $\\mathbf{u}_1 = \\left[\\begin{array}{c} 1/\\sqrt{2} \\\\ 1/\\sqrt{2} \\end{array}\\right]$.\n",
    "\n",
    "Since $\\mathbf{u}_2$ spans $LeftNul(A)$ ($\\Leftrightarrow Nul(A^T)$), $\\mathbf{u}_2 = \\left[\\begin{array}{c} -1/\\sqrt{2} \\\\ 1/\\sqrt{2} \\end{array}\\right]$.\n",
    "\n",
    "Therefore, we get\n",
    "\n",
    "$$\n",
    "U = \\left[\\begin{array}{cc} 1/\\sqrt{2} & -1/\\sqrt{2} \\\\ 1/\\sqrt{2} & 1/\\sqrt{2} \\end{array}\\right].\n",
    "$$\n",
    "\n",
    "Compute $U\\Sigma$:\n",
    "\n",
    "$$\n",
    "\\begin{align}\n",
    "U\\Sigma &= AV = \\left[\\begin{array}{cc} 5 & 0 \\\\ 5 & 0 \\end{array}\\right] \\\\\n",
    "&= \\left[\\begin{array}{cc} \\sigma_1/\\sqrt{2} & 0 \\\\ \\sigma_1/\\sqrt{2} & 0 \\end{array}\\right].\n",
    "\\end{align}\n",
    "$$\n",
    "\n",
    "Therefore,\n",
    "\n",
    "$$\n",
    "\\Sigma = \\left[\\begin{array}{cc} 5\\sqrt{2} & 0 \\\\ 0 & 0 \\end{array}\\right].\n",
    "$$\n"
   ]
  },
  {
   "cell_type": "markdown",
   "metadata": {
    "colab_type": "text",
    "id": "xHCt-FvH0FDT",
    "tags": [
     "HST"
    ]
   },
   "source": [
    "### Problem 3.7"
   ]
  },
  {
   "cell_type": "markdown",
   "metadata": {
    "colab_type": "text",
    "id": "EhxCKF6U0HwH",
    "tags": [
     "HST"
    ]
   },
   "source": [
    "Compute the pseudo-inverse $A^{\\dagger}$ of $A$."
   ]
  },
  {
   "cell_type": "markdown",
   "metadata": {
    "colab_type": "text",
    "id": "63rXWdST0KZN",
    "tags": [
     "ST"
    ]
   },
   "source": [
    "### Answer"
   ]
  },
  {
   "cell_type": "markdown",
   "metadata": {},
   "source": [
    "The pseudo-inverse of $A$ can be computed as:\n",
    "\n",
    "$$\n",
    "\\begin{align}\n",
    "A^{\\dagger} &= V\\Sigma^{\\dagger}U^T \\\\\n",
    "&= \\left[\\begin{array}{cc} 3/5 & -4/5 \\\\ 4/5 & 3/5 \\end{array}\\right]\n",
    "\\left[\\begin{array}{cc} 5\\sqrt{2} & 0 \\\\ 0 & 0 \\end{array}\\right]\n",
    "\\left[\\begin{array}{cc} 1/\\sqrt{2} & -1/\\sqrt{2} \\\\ 1/\\sqrt{2} & 1/\\sqrt{2} \\end{array}\\right] \\\\\n",
    "&=\\left[\\begin{array}{cc} 3/50 & 3/50 \\\\ 4/50 & 4/50 \\end{array}\\right].\n",
    "\\end{align}\n",
    "$$"
   ]
  },
  {
   "cell_type": "markdown",
   "metadata": {
    "colab_type": "text",
    "id": "hllY12AA0PKi",
    "tags": [
     "HST"
    ]
   },
   "source": [
    "### Problem 3.8"
   ]
  },
  {
   "cell_type": "markdown",
   "metadata": {
    "colab_type": "text",
    "id": "MnjLAWvt0Q06",
    "tags": [
     "HST"
    ]
   },
   "source": [
    "Find the minimum-norm least-squares solution $\\mathbf{x}^*$ of the system $A\\mathbf{x} = \\mathbf{b}$."
   ]
  },
  {
   "cell_type": "markdown",
   "metadata": {
    "colab_type": "text",
    "id": "2RgECzBj0TVw",
    "tags": [
     "ST"
    ]
   },
   "source": [
    "### Answer"
   ]
  },
  {
   "cell_type": "markdown",
   "metadata": {},
   "source": [
    "The minimum-norm least-squares solution $\\mathbf{x}^*$ can be computed as:\n",
    "\n",
    "$$\n",
    "\\begin{align}\n",
    "\\mathbf{x}^* &= A^{\\dagger}\\mathbf{b} \\\\\n",
    "&= \\left[\\begin{array}{cc} 3/50 & 3/50 \\\\ 4/50 & 4/50 \\end{array}\\right]\n",
    "\\left[\\begin{array}{c} 2 \\\\ 3 \\end{array}\\right]\\\\\n",
    "&= \\left[\\begin{array}{c} 3/10 \\\\ 4/10 \\end{array}\\right]\\\\\n",
    "\\end{align}.\n",
    "$$"
   ]
  },
  {
   "cell_type": "markdown",
   "metadata": {
    "colab_type": "text",
    "id": "MDz6wROp0ZIr",
    "tags": [
     "HST"
    ]
   },
   "source": [
    "### Problem 3.9"
   ]
  },
  {
   "cell_type": "markdown",
   "metadata": {
    "colab_type": "text",
    "id": "0P5mlHPz0bTA",
    "tags": [
     "HST"
    ]
   },
   "source": [
    "Give an expression for the set $S$ of all least-squares solutions of the system $A\\mathbf{x} = \\mathbf{b}$."
   ]
  },
  {
   "cell_type": "markdown",
   "metadata": {
    "colab_type": "text",
    "id": "K2ZKErfi0dwK",
    "tags": [
     "ST"
    ]
   },
   "source": [
    "### Answer"
   ]
  },
  {
   "cell_type": "markdown",
   "metadata": {},
   "source": [
    "We can re-write the least-squares problem as:\n",
    "\n",
    "$$\n",
    "\\min \\|A\\mathbf{x}-\\mathbf{b}\\| = \\min\\|\\Sigma \\mathbf{y}-\\mathbf{c}\\|, \\; \\text{where}\\; \\mathbf{y}=V^T\\mathbf{x}, \\mathbf{c}=U^T\\mathbf{b}.\n",
    "$$\n",
    "\n",
    "Let's look closely at $\\Sigma \\mathbf{y}-\\mathbf{c}$:\n",
    "\n",
    "$$\n",
    "\\Sigma \\mathbf{y}-\\mathbf{c} = \\left[\\begin{array}{cc} \\sigma_1 & 0 \\\\ 0 & 0 \\end{array}\\right]\n",
    "\\left[\\begin{array}{c} y_1 \\\\ y_2 \\end{array}\\right] - \n",
    "\\left[\\begin{array}{c} c_1 \\\\ c_2 \\end{array}\\right].\n",
    "$$\n",
    "\n",
    "Although $y_1$ should be chosen as $c_1/\\sigma_1$ to minimize the overall norm, since $y_2$ does not affect the norm at all, it can be chosen however.\n",
    "\n",
    "Let's compute $\\mathbf{c}$:\n",
    "\n",
    "$$\n",
    "\\begin{align}\n",
    "\\left[\\begin{array}{c} c_1 \\\\ c_2 \\end{array}\\right] &= \n",
    "\\left[\\begin{array}{cc} 1/\\sqrt{2} & -1/\\sqrt{2} \\\\ 1/\\sqrt{2} & 1/\\sqrt{2} \\end{array}\\right]\n",
    "\\left[\\begin{array}{c} 2 \\\\ 3 \\end{array}\\right] \\\\\n",
    "&= \\left[\\begin{array}{c} 5/\\sqrt{2} \\\\ 1/\\sqrt{2} \\end{array}\\right].\n",
    "\\end{align}\n",
    "$$\n",
    "\n",
    "Find expression for $\\mathbf{y}$:\n",
    "\n",
    "$$\n",
    "\\left[\\begin{array}{c} y_1 \\\\ y_2 \\end{array}\\right] =\n",
    "\\left[\\begin{array}{cc} 3/5 & 4/5 \\\\ -4/5 & 3/5 \\end{array}\\right]\n",
    "\\left[\\begin{array}{c} x_1 \\\\ x_2 \\end{array}\\right] \\\\\n",
    "$$\n",
    "\n",
    "$$\n",
    "\\begin{align}\n",
    "y_1 &= \\frac{3}{5}x_1 + \\frac{4}{5}x_2 \\\\\n",
    "&= \\frac{c_1}{\\sigma_1} = \\frac{1}{2} \\\\\n",
    "y_2 &= -\\frac{4}{5}x_1 + \\frac{3}{5}x_2 \\\\\n",
    "&= k,\\;\\;\\forall k\\in\\mathbb{R}.\n",
    "\\end{align}\n",
    "$$\n",
    "\n",
    "From above, we can find an expression for $\\mathbf{x}$:\n",
    "\n",
    "$$\n",
    "\\begin{align}\n",
    "x_1 &= \\frac{3}{10} - \\frac{4}{5}k \\\\\n",
    "x_2 &= \\frac{2}{5} + \\frac{3}{5}k\n",
    "\\end{align}\n",
    "$$\n",
    "\n",
    "$$\n",
    "\\therefore \\hat{\\mathbf{x}} = \\left[\\begin{array}{c} 3/10 \\\\ 4/10 \\end{array}\\right] + k \\left[\\begin{array}{c} -4/5 \\\\ 3/5 \\end{array}\\right], \\;\\;\\forall k\\in\\mathbb{R}.\n",
    "$$\n",
    "\n",
    "Note that when $k=0$, we get the minimum-norm least-squares solution $\\mathbf{x}^* =\\left[\\begin{array}{c} 3/10 \\\\ 4/10 \\end{array}\\right]$.\n"
   ]
  },
  {
   "cell_type": "markdown",
   "metadata": {
    "colab_type": "text",
    "id": "8vQg6So00ij9",
    "tags": [
     "HST"
    ]
   },
   "source": [
    "### Problem 3.10"
   ]
  },
  {
   "cell_type": "markdown",
   "metadata": {
    "colab_type": "text",
    "id": "ghlx7z5s0lkG",
    "tags": [
     "HST"
    ]
   },
   "source": [
    "Find all the solutions to\n",
    "\n",
    "$$\n",
    " \\hat{\\mathbf{x}} = \\arg\\min_{\\|\\mathbf{x}\\| = 1} \\|A\\mathbf{x}\\|\\;.\n",
    "$$"
   ]
  },
  {
   "cell_type": "markdown",
   "metadata": {
    "colab_type": "text",
    "id": "wXELtk700oFd",
    "tags": [
     "ST"
    ]
   },
   "source": [
    "### Answer"
   ]
  },
  {
   "cell_type": "markdown",
   "metadata": {},
   "source": [
    "The unit-norm least-squares solution to the homogeneous linear system system $A\\mathbf{x}=0$ corresponds to the last column $\\mathbf{v}_2$ of right singular vector matrix $V$.\n",
    "\n",
    "Therefore,\n",
    "\n",
    "$$\n",
    "\\hat{\\mathbf{x}} = \\left[\\begin{array}{c} -4/5 \\\\ 3/5 \\end{array}\\right],\\; \n",
    "\\left[\\begin{array}{c} 4/5 \\\\ -3/5 \\end{array}\\right],\\;\n",
    "\\left[\\begin{array}{c} 4/5 \\\\ 3/5 \\end{array}\\right],\\;\\text{and}\\; \n",
    "\\left[\\begin{array}{c} -4/5 \\\\ -3/5 \\end{array}\\right].\n",
    "$$\n",
    "\n",
    "Multiple solutions are possible due to sign ambiguity of SVD."
   ]
  },
  {
   "cell_type": "markdown",
   "metadata": {
    "colab_type": "text",
    "id": "8GZdQ7IsoUVR",
    "tags": [
     "HST"
    ]
   },
   "source": [
    "## Part 4: Neural Networks"
   ]
  },
  {
   "cell_type": "markdown",
   "metadata": {
    "colab_type": "text",
    "id": "4gQIvWQAzhzm",
    "tags": [
     "HST"
    ]
   },
   "source": [
    "The code in this part is somewhat modified from the [Keras documentation](https://keras.io/examples/cifar10_cnn/). It downloads the CIFAR-10 dataset, a set of 60000 labeled images grouped in 10 categories, which it splits into training, validation, and test sets. It then defines a function `network` that returns a simple convolutional neural network (the `model`), and a function `train` that trains the model for a single epoch by default, checking performance on the validation set.The function `train` also saves the trained model in a file in the cloud and evaluates the model on the test data. Finally, it returns a history of training and validation accuracies achieved after each epoch of training. The function `train` uses SGD as the default optimizer.\n",
    "\n",
    "_**Important:**_ Make sure you select Python 3 through the `Runtime->Change runtime type` menu at the top of the notebook. Also set the hardware acceleration to `None` in that same menu. We will turn on GPU acceleration later on. TPU acceleration is not always available, so we won't use it."
   ]
  },
  {
   "cell_type": "code",
   "execution_count": 0,
   "metadata": {
    "colab": {
     "base_uri": "https://localhost:8080/",
     "height": 85
    },
    "colab_type": "code",
    "id": "JM7Sh_kizkO-",
    "outputId": "e11bc9cf-95cf-494f-bc19-86d818fb2208",
    "tags": [
     "HST"
    ]
   },
   "outputs": [
    {
     "name": "stdout",
     "output_type": "stream",
     "text": [
      "x_train shape: (40000, 32, 32, 3)\n",
      "40000 training samples\n",
      "10000 validation samples\n",
      "10000 test samples\n"
     ]
    }
   ],
   "source": [
    "from __future__ import print_function\n",
    "import keras\n",
    "from keras.datasets import cifar10\n",
    "from sklearn.model_selection import train_test_split\n",
    "\n",
    "num_classes = 10\n",
    "\n",
    "# The data, split between train, validation, and test sets:\n",
    "(x_train, y_train), (x_test, y_test) = cifar10.load_data()\n",
    "(x_train, x_validate, y_train, y_validate) = train_test_split(x_train, y_train,\n",
    "                                                             test_size=0.2)\n",
    "print('x_train shape:', x_train.shape)\n",
    "print(x_train.shape[0], 'training samples')\n",
    "print(x_validate.shape[0], 'validation samples')\n",
    "print(x_test.shape[0], 'test samples')\n",
    "\n",
    "# Convert class vectors to binary class matrices.\n",
    "y_train = keras.utils.to_categorical(y_train, num_classes)\n",
    "y_validate = keras.utils.to_categorical(y_validate, num_classes)\n",
    "y_test = keras.utils.to_categorical(y_test, num_classes)\n",
    "\n",
    "x_train = x_train.astype('float32')\n",
    "x_validate = x_validate.astype('float32')\n",
    "x_test = x_test.astype('float32')\n",
    "x_train /= 255\n",
    "x_validate /= 255\n",
    "x_test /= 255"
   ]
  },
  {
   "cell_type": "code",
   "execution_count": 0,
   "metadata": {
    "colab": {},
    "colab_type": "code",
    "id": "FBMRAFNN5k6S",
    "tags": [
     "HST"
    ]
   },
   "outputs": [],
   "source": [
    "from keras.models import Sequential\n",
    "from keras.layers import Dense, Dropout, Activation, Flatten\n",
    "from keras.layers import Conv2D, MaxPooling2D\n",
    "\n",
    "activation_function = 'relu'\n",
    "\n",
    "def network(activation_function='relu'):\n",
    "  model = Sequential()\n",
    "  model.add(Conv2D(32, (3, 3), padding='same',\n",
    "                  input_shape=x_train.shape[1:]))\n",
    "  model.add(Activation(activation_function))\n",
    "  model.add(Conv2D(32, (3, 3)))\n",
    "  model.add(Activation(activation_function))\n",
    "  model.add(MaxPooling2D(pool_size=(2, 2)))\n",
    "  model.add(Dropout(0.25))\n",
    "\n",
    "  model.add(Conv2D(64, (3, 3), padding='same'))\n",
    "  model.add(Activation(activation_function))\n",
    "  model.add(Conv2D(64, (3, 3)))\n",
    "  model.add(Activation(activation_function))\n",
    "  model.add(MaxPooling2D(pool_size=(2, 2)))\n",
    "  model.add(Dropout(0.25))\n",
    "\n",
    "  model.add(Flatten())\n",
    "  model.add(Dense(512))\n",
    "  model.add(Activation(activation_function))\n",
    "  model.add(Dropout(0.5))\n",
    "  model.add(Dense(num_classes))\n",
    "  model.add(Activation('softmax'))\n",
    "  \n",
    "  return model\n",
    "\n",
    "model = network()"
   ]
  },
  {
   "cell_type": "code",
   "execution_count": 0,
   "metadata": {
    "colab": {},
    "colab_type": "code",
    "id": "35sd9xJr55eM",
    "tags": [
     "HST"
    ]
   },
   "outputs": [],
   "source": [
    "from keras.preprocessing.image import ImageDataGenerator\n",
    "import os\n",
    "from math import ceil\n",
    "\n",
    "def train(model, epochs=1,\n",
    "          opt = keras.optimizers.SGD(lr=0.01, momentum=0.7, decay=0.001),\n",
    "          verbose=2):\n",
    "\n",
    "  batch_size = 32\n",
    "  save_dir = os.path.join(os.getcwd(), 'saved_models')\n",
    "  model_name = 'keras_cifar10_trained_model.h5'\n",
    "\n",
    "  # Configure the model for training\n",
    "  model.compile(loss='categorical_crossentropy',\n",
    "                optimizer=opt,\n",
    "                metrics=['accuracy'])\n",
    "\n",
    "  history = model.fit(x_train, y_train,\n",
    "                      batch_size=batch_size,\n",
    "                      epochs=epochs,\n",
    "                      validation_data=(x_validate, y_validate),\n",
    "                      shuffle=False,\n",
    "                      verbose=verbose)\n",
    "\n",
    "  # Save model and weights\n",
    "  if not os.path.isdir(save_dir):\n",
    "    os.makedirs(save_dir)\n",
    "  model_path = os.path.join(save_dir, model_name)\n",
    "  model.save(model_path)\n",
    "\n",
    "  # Score trained model.\n",
    "  scores = model.evaluate(x_test, y_test, verbose=1)\n",
    "  print('Test loss:', scores[0])\n",
    "  print('Test accuracy:', scores[1])\n",
    "  return [history.epoch, history.history['acc'], history.history['val_acc']]"
   ]
  },
  {
   "cell_type": "markdown",
   "metadata": {
    "colab_type": "text",
    "id": "JMElXg2ETjAE",
    "tags": [
     "HST"
    ]
   },
   "source": [
    "### Problem 4.1\n"
   ]
  },
  {
   "cell_type": "markdown",
   "metadata": {
    "colab_type": "text",
    "id": "oDnPx1gdT5Jm",
    "tags": [
     "HST"
    ]
   },
   "source": [
    "Using Stochastic Gradient Descent (SGD) with the default parameters in `train`, train the model for one epoch _with no hardware acceleration_.\n",
    "\n",
    "Show your call to `train` and the outputs it generates. Is validation accuracy a reasonably good estimate of test accuracy?"
   ]
  },
  {
   "cell_type": "markdown",
   "metadata": {
    "colab_type": "text",
    "id": "73TQApgKiGY_",
    "tags": [
     "HST"
    ]
   },
   "source": [
    "#### Programming Notes\n",
    "\n",
    "+ Hardware acceleration is turned off through the `Runtime->Change runtime type` menu at the top of the notebook, and selecting `None` for hardware acceleration.\n",
    "\n",
    "+ Depending on circumstances, after you change the runtime type, some or all of the notebook state may be lost. This will require you to rerun some of the cells above.\n",
    "\n",
    "+ Tensorflow may generate warning messages that depend on how the Colaboratory interface is implemented. These messages are typically harmless."
   ]
  },
  {
   "cell_type": "markdown",
   "metadata": {
    "colab_type": "text",
    "id": "5sYqNFyUVxdy",
    "tags": [
     "ST"
    ]
   },
   "source": [
    "### Answer"
   ]
  },
  {
   "cell_type": "code",
   "execution_count": 0,
   "metadata": {
    "colab": {
     "base_uri": "https://localhost:8080/",
     "height": 119
    },
    "colab_type": "code",
    "id": "deIo6eEp-6cs",
    "outputId": "342caead-96ea-4e11-f892-58bb8b23a419"
   },
   "outputs": [
    {
     "name": "stdout",
     "output_type": "stream",
     "text": [
      "Train on 40000 samples, validate on 10000 samples\n",
      "Epoch 1/1\n",
      " - 222s - loss: 1.9786 - acc: 0.2663 - val_loss: 1.6963 - val_acc: 0.3894\n",
      "10000/10000 [==============================] - 16s 2ms/step\n",
      "Test loss: 1.683273012161255\n",
      "Test accuracy: 0.3983\n"
     ]
    }
   ],
   "source": [
    "model = network()\n",
    "[epoc_out, acc, val_acc] = train(model)"
   ]
  },
  {
   "cell_type": "code",
   "execution_count": 0,
   "metadata": {
    "colab": {
     "base_uri": "https://localhost:8080/",
     "height": 34
    },
    "colab_type": "code",
    "id": "iYaIRxEeMNK7",
    "outputId": "414fbb3c-559a-45ba-8988-4d640aa152e8"
   },
   "outputs": [
    {
     "data": {
      "text/plain": [
       "[0]"
      ]
     },
     "execution_count": 55,
     "metadata": {
      "tags": []
     },
     "output_type": "execute_result"
    }
   ],
   "source": [
    "epoc_out"
   ]
  },
  {
   "cell_type": "code",
   "execution_count": 0,
   "metadata": {
    "colab": {
     "base_uri": "https://localhost:8080/",
     "height": 34
    },
    "colab_type": "code",
    "id": "cUFabarBN9By",
    "outputId": "bab642c0-37df-450c-c11b-034b81c682b1"
   },
   "outputs": [
    {
     "data": {
      "text/plain": [
       "[0.266275]"
      ]
     },
     "execution_count": 56,
     "metadata": {
      "tags": []
     },
     "output_type": "execute_result"
    }
   ],
   "source": [
    "acc"
   ]
  },
  {
   "cell_type": "code",
   "execution_count": 0,
   "metadata": {
    "colab": {
     "base_uri": "https://localhost:8080/",
     "height": 34
    },
    "colab_type": "code",
    "id": "tvwjvV_COHUD",
    "outputId": "1a9730fe-5a62-40b4-ee3c-befa85b49e27"
   },
   "outputs": [
    {
     "data": {
      "text/plain": [
       "[0.3894]"
      ]
     },
     "execution_count": 57,
     "metadata": {
      "tags": []
     },
     "output_type": "execute_result"
    }
   ],
   "source": [
    "val_acc"
   ]
  },
  {
   "cell_type": "markdown",
   "metadata": {
    "colab_type": "text",
    "id": "RfydNOiwO5gN"
   },
   "source": [
    "Yes. Validation accuracy is a reasonably good estimate of test accuracy in this case. You can see how the 0.3983 for test accuracy is close to the 0.3894 accuracy for validation. This assumption that validation accuracy isa . good estimate of test accuracy usually holds true--asusming that they both come from similar data. \n",
    "However, after a lot of messing with the nueral network's architecture in hopes of increasing validation accuracy, this might be less true."
   ]
  },
  {
   "cell_type": "markdown",
   "metadata": {
    "colab_type": "text",
    "id": "NoGPF3W7WU_X",
    "tags": [
     "HST"
    ]
   },
   "source": [
    "### Problem 4.2"
   ]
  },
  {
   "cell_type": "markdown",
   "metadata": {
    "colab_type": "text",
    "id": "yCDoSETDWXCJ",
    "tags": [
     "HST"
    ]
   },
   "source": [
    "Repeat the previous experiment _after turning on GPU acceleration_ from the `Runtime->Change runtime type` menu.\n",
    "\n",
    "Are the accuracy values the same as before? Explain why or why not. What is the approximate ratio of running times of CPU (no acceleration) versus GPU training?"
   ]
  },
  {
   "cell_type": "markdown",
   "metadata": {
    "colab_type": "text",
    "id": "JRnVqg5gXbvx",
    "tags": [
     "ST"
    ]
   },
   "source": [
    "### Answer"
   ]
  },
  {
   "cell_type": "code",
   "execution_count": 0,
   "metadata": {
    "colab": {
     "base_uri": "https://localhost:8080/",
     "height": 119
    },
    "colab_type": "code",
    "id": "Bjk8OzlKZMNH",
    "outputId": "2d265496-48e8-4a42-ed2c-81bf8608131f"
   },
   "outputs": [
    {
     "name": "stdout",
     "output_type": "stream",
     "text": [
      "Downloading data from https://www.cs.toronto.edu/~kriz/cifar-10-python.tar.gz\n",
      "170500096/170498071 [==============================] - 35s 0us/step\n",
      "x_train shape: (40000, 32, 32, 3)\n",
      "40000 training samples\n",
      "10000 validation samples\n",
      "10000 test samples\n"
     ]
    }
   ],
   "source": [
    "from __future__ import print_function\n",
    "import keras\n",
    "from keras.datasets import cifar10\n",
    "from sklearn.model_selection import train_test_split\n",
    "\n",
    "num_classes = 10\n",
    "\n",
    "# The data, split between train, validation, and test sets:\n",
    "(x_train, y_train), (x_test, y_test) = cifar10.load_data()\n",
    "(x_train, x_validate, y_train, y_validate) = train_test_split(x_train, y_train,\n",
    "                                                             test_size=0.2)\n",
    "print('x_train shape:', x_train.shape)\n",
    "print(x_train.shape[0], 'training samples')\n",
    "print(x_validate.shape[0], 'validation samples')\n",
    "print(x_test.shape[0], 'test samples')\n",
    "\n",
    "# Convert class vectors to binary class matrices.\n",
    "y_train = keras.utils.to_categorical(y_train, num_classes)\n",
    "y_validate = keras.utils.to_categorical(y_validate, num_classes)\n",
    "y_test = keras.utils.to_categorical(y_test, num_classes)\n",
    "\n",
    "x_train = x_train.astype('float32')\n",
    "x_validate = x_validate.astype('float32')\n",
    "x_test = x_test.astype('float32')\n",
    "x_train /= 255\n",
    "x_validate /= 255\n",
    "x_test /= 255"
   ]
  },
  {
   "cell_type": "code",
   "execution_count": 0,
   "metadata": {
    "colab": {
     "base_uri": "https://localhost:8080/",
     "height": 139
    },
    "colab_type": "code",
    "id": "sq_K-pqMZO3W",
    "outputId": "9b7c6425-9977-4edb-fa76-7fb6b821313f"
   },
   "outputs": [
    {
     "name": "stdout",
     "output_type": "stream",
     "text": [
      "WARNING:tensorflow:From /usr/local/lib/python3.6/dist-packages/tensorflow/python/framework/op_def_library.py:263: colocate_with (from tensorflow.python.framework.ops) is deprecated and will be removed in a future version.\n",
      "Instructions for updating:\n",
      "Colocations handled automatically by placer.\n",
      "WARNING:tensorflow:From /usr/local/lib/python3.6/dist-packages/keras/backend/tensorflow_backend.py:3445: calling dropout (from tensorflow.python.ops.nn_ops) with keep_prob is deprecated and will be removed in a future version.\n",
      "Instructions for updating:\n",
      "Please use `rate` instead of `keep_prob`. Rate should be set to `rate = 1 - keep_prob`.\n"
     ]
    }
   ],
   "source": [
    "from keras.models import Sequential\n",
    "from keras.layers import Dense, Dropout, Activation, Flatten\n",
    "from keras.layers import Conv2D, MaxPooling2D\n",
    "\n",
    "activation_function = 'relu'\n",
    "\n",
    "def network(activation_function='relu'):\n",
    "  model = Sequential()\n",
    "  model.add(Conv2D(32, (3, 3), padding='same',\n",
    "                  input_shape=x_train.shape[1:]))\n",
    "  model.add(Activation(activation_function))\n",
    "  model.add(Conv2D(32, (3, 3)))\n",
    "  model.add(Activation(activation_function))\n",
    "  model.add(MaxPooling2D(pool_size=(2, 2)))\n",
    "  model.add(Dropout(0.25))\n",
    "\n",
    "  model.add(Conv2D(64, (3, 3), padding='same'))\n",
    "  model.add(Activation(activation_function))\n",
    "  model.add(Conv2D(64, (3, 3)))\n",
    "  model.add(Activation(activation_function))\n",
    "  model.add(MaxPooling2D(pool_size=(2, 2)))\n",
    "  model.add(Dropout(0.25))\n",
    "\n",
    "  model.add(Flatten())\n",
    "  model.add(Dense(512))\n",
    "  model.add(Activation(activation_function))\n",
    "  model.add(Dropout(0.5))\n",
    "  model.add(Dense(num_classes))\n",
    "  model.add(Activation('softmax'))\n",
    "  \n",
    "  return model\n",
    "\n",
    "model = network()"
   ]
  },
  {
   "cell_type": "code",
   "execution_count": 0,
   "metadata": {
    "colab": {},
    "colab_type": "code",
    "id": "W1huPGTIZRwr"
   },
   "outputs": [],
   "source": [
    "from keras.preprocessing.image import ImageDataGenerator\n",
    "import os\n",
    "from math import ceil\n",
    "\n",
    "def train(model, epochs=1,\n",
    "          opt = keras.optimizers.SGD(lr=0.01, momentum=0.7, decay=0.001),\n",
    "          verbose=2):\n",
    "\n",
    "  batch_size = 32\n",
    "  save_dir = os.path.join(os.getcwd(), 'saved_models')\n",
    "  model_name = 'keras_cifar10_trained_model.h5'\n",
    "\n",
    "  # Configure the model for training\n",
    "  model.compile(loss='categorical_crossentropy',\n",
    "                optimizer=opt,\n",
    "                metrics=['accuracy'])\n",
    "\n",
    "  history = model.fit(x_train, y_train,\n",
    "                      batch_size=batch_size,\n",
    "                      epochs=epochs,\n",
    "                      validation_data=(x_validate, y_validate),\n",
    "                      shuffle=False,\n",
    "                      verbose=verbose)\n",
    "\n",
    "  # Save model and weights\n",
    "  if not os.path.isdir(save_dir):\n",
    "    os.makedirs(save_dir)\n",
    "  model_path = os.path.join(save_dir, model_name)\n",
    "  model.save(model_path)\n",
    "\n",
    "  # Score trained model.\n",
    "  scores = model.evaluate(x_test, y_test, verbose=1)\n",
    "  print('Test loss:', scores[0])\n",
    "  print('Test accuracy:', scores[1])\n",
    "  return [history.epoch, history.history['acc'], history.history['val_acc']]"
   ]
  },
  {
   "cell_type": "code",
   "execution_count": 0,
   "metadata": {
    "colab": {
     "base_uri": "https://localhost:8080/",
     "height": 119
    },
    "colab_type": "code",
    "id": "lb59jfFtUAQS",
    "outputId": "a2333280-0c7f-46a8-8371-2aec9fb1b7b8"
   },
   "outputs": [
    {
     "name": "stdout",
     "output_type": "stream",
     "text": [
      "Train on 40000 samples, validate on 10000 samples\n",
      "Epoch 1/1\n",
      " - 13s - loss: 1.9836 - acc: 0.2714 - val_loss: 1.7193 - val_acc: 0.3823\n",
      "10000/10000 [==============================] - 1s 123us/step\n",
      "Test loss: 1.6985906967163087\n",
      "Test accuracy: 0.3851\n"
     ]
    }
   ],
   "source": [
    "# model = network() ## model has already been initialized, so no need to do it again.. This line is here so the grader can see that we didn't forget to initialize\n",
    "[epoc_out, acc, val_acc] = train(model)"
   ]
  },
  {
   "cell_type": "code",
   "execution_count": 0,
   "metadata": {
    "colab": {},
    "colab_type": "code",
    "id": "BLPDkYDvWohZ"
   },
   "outputs": [],
   "source": [
    "acc"
   ]
  },
  {
   "cell_type": "code",
   "execution_count": 0,
   "metadata": {
    "colab": {},
    "colab_type": "code",
    "id": "8uKGng0NWmz_"
   },
   "outputs": [],
   "source": [
    "val_acc"
   ]
  },
  {
   "cell_type": "code",
   "execution_count": 1,
   "metadata": {
    "colab": {
     "base_uri": "https://localhost:8080/",
     "height": 34
    },
    "colab_type": "code",
    "id": "7cn4kM_dUugF",
    "outputId": "d834b5de-295a-4745-d863-f2797ff46e3b"
   },
   "outputs": [
    {
     "name": "stdout",
     "output_type": "stream",
     "text": [
      "The approximate ratio of running times of GPU to CPU is: 8.0\n"
     ]
    }
   ],
   "source": [
    "gpu_cpu_ratio = 16 / 2\n",
    "print('The approximate ratio of running times of GPU to CPU is: ' + str(gpu_cpu_ratio))"
   ]
  },
  {
   "cell_type": "markdown",
   "metadata": {
    "colab_type": "text",
    "id": "tN6bb7EEaksW"
   },
   "source": [
    "The accuracies are different in each case. The reason for this is that the initialization of the parameters in the network is randomized each time. This means the optimization for each run started at a different configuration and therefore shouldn't be expected to end up at the exact location after one epoch"
   ]
  },
  {
   "cell_type": "markdown",
   "metadata": {
    "colab_type": "text",
    "id": "UL293H0_YerN",
    "tags": [
     "HST"
    ]
   },
   "source": [
    "### Problem 4.3"
   ]
  },
  {
   "cell_type": "markdown",
   "metadata": {
    "colab_type": "text",
    "id": "hw67mTPzYg-4",
    "tags": [
     "HST"
    ]
   },
   "source": [
    "We keep GPU acceleration turned on from now on.\n",
    "\n",
    "Repeat the experiment above with the ADAM optimizer with the default parameters. This optimizer selects the descent step size adaptively. The ADAM optimizer is invoked by using parameter `opt = keras.optimizers.Adam()` in `train`.\n",
    "\n",
    "Compare accuracies and running times with those achieved in the previous experiment."
   ]
  },
  {
   "cell_type": "markdown",
   "metadata": {
    "colab_type": "text",
    "id": "PRFT6uhiZdIj",
    "tags": [
     "ST"
    ]
   },
   "source": [
    "### Answer"
   ]
  },
  {
   "cell_type": "code",
   "execution_count": 0,
   "metadata": {
    "colab": {
     "base_uri": "https://localhost:8080/",
     "height": 119
    },
    "colab_type": "code",
    "id": "i50p6thsMIet",
    "outputId": "9c87688b-3046-4549-9bc4-d7e62fa25389"
   },
   "outputs": [
    {
     "name": "stdout",
     "output_type": "stream",
     "text": [
      "Train on 40000 samples, validate on 10000 samples\n",
      "Epoch 1/1\n",
      " - 17s - loss: 1.1165 - acc: 0.6041 - val_loss: 0.9086 - val_acc: 0.6783\n",
      "10000/10000 [==============================] - 1s 134us/step\n",
      "Test loss: 0.9191166597366333\n",
      "Test accuracy: 0.6723\n"
     ]
    }
   ],
   "source": [
    "model = network()\n",
    "[epoc_out, acc, val_acc] = train(model, opt = keras.optimizers.Adam())"
   ]
  },
  {
   "cell_type": "markdown",
   "metadata": {
    "colab_type": "text",
    "id": "KEp7_h36bC7R",
    "tags": [
     "HST"
    ]
   },
   "source": [
    "### Problem 4.4"
   ]
  },
  {
   "cell_type": "markdown",
   "metadata": {
    "colab_type": "text",
    "id": "UxdkfA9ibFUM",
    "tags": [
     "HST"
    ]
   },
   "source": [
    "We use the ADAM optimizer with default parameters from now on.\n",
    "\n",
    "Repeat the previous experiment with 30 epochs of training instead of 1 (`epochs=30`). This time, store the value returned by `train`, as you will need it for plotting.\n",
    "\n",
    "When done, plot both training accuracy and validation accuracy as functions of epoch number on the same diagram. Label the axes and add a legend to specify which plot is which.\n",
    "\n",
    "Do you think that the classifier would perform much better if you were to train longer? Explain briefly."
   ]
  },
  {
   "cell_type": "markdown",
   "metadata": {
    "colab_type": "text",
    "id": "Pw9glyaNvwQ6",
    "tags": [
     "HST"
    ]
   },
   "source": [
    "#### Programming Notes\n",
    "\n",
    "+ Look at the definition of `train` to figure out what the output from that function contains.\n",
    "+ Set the value of the `verbose` parameter in the call to `train` to 0 to suppress output, which would be too long to include in your PDF file. You can estimate from your previous experiments how long the code will take to run. Alternatively, set `verbose` to 2 in early test runs, but then set it to 0 in your final run."
   ]
  },
  {
   "cell_type": "markdown",
   "metadata": {
    "colab_type": "text",
    "id": "pxOicSFohW3T",
    "tags": [
     "ST"
    ]
   },
   "source": [
    "### Answer"
   ]
  },
  {
   "cell_type": "code",
   "execution_count": 26,
   "metadata": {
    "colab": {
     "base_uri": "https://localhost:8080/",
     "height": 68
    },
    "colab_type": "code",
    "id": "3G0Mh-2hQW0V",
    "outputId": "fa7e5d44-692b-468e-ed8a-6ab5214043ab"
   },
   "outputs": [
    {
     "name": "stdout",
     "output_type": "stream",
     "text": [
      "10000/10000 [==============================] - 2s 153us/step\n",
      "Test loss: 0.8702408072948455\n",
      "Test accuracy: 0.7615\n"
     ]
    }
   ],
   "source": [
    "model = network()\n",
    "[epoc_out, acc, val_acc] = train(model, opt = keras.optimizers.Adam(), epochs = 30, verbose = 0)"
   ]
  },
  {
   "cell_type": "code",
   "execution_count": 28,
   "metadata": {
    "colab": {
     "base_uri": "https://localhost:8080/",
     "height": 403
    },
    "colab_type": "code",
    "id": "mfqb3sEsPwrV",
    "outputId": "00189483-fd0b-435f-918f-09efd028753b"
   },
   "outputs": [
    {
     "data": {
      "image/png": "[encoded data removed]",
      "text/plain": [
       "<Figure size 576x432 with 1 Axes>"
      ]
     },
     "metadata": {
      "tags": []
     },
     "output_type": "display_data"
    }
   ],
   "source": [
    "# Plots for training and testing process: loss and accuracy\n",
    "from matplotlib import pyplot as plt\n",
    "import numpy as np\n",
    "plt.figure(0)\n",
    "plt.plot(acc,'r')\n",
    "plt.plot(val_acc,'g')\n",
    "plt.xticks(np.arange(0, 31, 2.0))\n",
    "plt.rcParams['figure.figsize'] = (8, 6)\n",
    "plt.xlabel(\"Num of Epochs\")\n",
    "plt.ylabel(\"Accuracy\")\n",
    "plt.title(\"Training Accuracy vs Validation Accuracy\")\n",
    "plt.legend(['train','validation'])\n",
    "\n",
    "\n",
    "plt.show()"
   ]
  },
  {
   "cell_type": "markdown",
   "metadata": {
    "colab_type": "text",
    "id": "dV87zWIbXBIV"
   },
   "source": [
    "I do not think this would be much better if you trained it longer. As evidenced in the graph, the accuracy measures begin to plateau--especially the validation accuracy. This is suggestive of over-fitting, which means training more will not help."
   ]
  },
  {
   "cell_type": "markdown",
   "metadata": {
    "colab_type": "text",
    "id": "UxdW8dV4uoCq",
    "tags": [
     "HST"
    ]
   },
   "source": [
    "### Problem 4.5"
   ]
  },
  {
   "cell_type": "markdown",
   "metadata": {
    "colab_type": "text",
    "id": "A97WOgV8uweq",
    "tags": [
     "HST"
    ]
   },
   "source": [
    "Suggest at least three different ways to improve the performance of the classifier defined in this Part. For each way, explain why that would help. This is an open-ended question, and answers may vary. Do _not_ implement your suggestions, and do _not_ refer to techniques we have not covered in class (such as batch normalization or other techniques you may have heard of).\n",
    "\n",
    "If you suggest more than three ways, we will grade you for the best ones. However, we _will_ deduct points for patently wrong statements in any of your suggestions."
   ]
  },
  {
   "cell_type": "markdown",
   "metadata": {
    "colab_type": "text",
    "id": "12XxnmJwnYzN",
    "tags": [
     "ST"
    ]
   },
   "source": [
    "### Answer"
   ]
  },
  {
   "cell_type": "markdown",
   "metadata": {
    "colab_type": "text",
    "id": "UZWLsXuXRleX"
   },
   "source": [
    "1. Adding more convolutional layers in the architecture: the more layers there are, the more parameters the system can optimize for, which will make the model more flexible. The only drawbacks might be training time and overfitting--however, since our dataset is so large, we are less exposed to overfitting.\n",
    "\n",
    "2. Change the allocation of validation and training samples. By increasing the number of training images you might be able to improve the accuracy. The drawback will be that you have a less trust-worthy validation to determine how generalizable the results are.\n",
    "\n",
    "3. Increase the number of neurons in each convolutional layer. You can do that by increasing the number of filters in each layer. This will make the model more powerful and flexible to increase the accuracy."
   ]
  }
 ],
 "metadata": {
  "accelerator": "GPU",
  "colab": {
   "collapsed_sections": [],
   "include_colab_link": true,
   "name": "homework05.ipynb",
   "provenance": [],
   "toc_visible": true,
   "version": "0.3.2"
  },
  "kernelspec": {
   "display_name": "Python 3",
   "language": "python",
   "name": "python3"
  },
  "language_info": {
   "codemirror_mode": {
    "name": "ipython",
    "version": 3
   },
   "file_extension": ".py",
   "mimetype": "text/x-python",
   "name": "python",
   "nbconvert_exporter": "python",
   "pygments_lexer": "ipython3",
   "version": "3.6.7"
  }
 },
 "nbformat": 4,
 "nbformat_minor": 1
}
