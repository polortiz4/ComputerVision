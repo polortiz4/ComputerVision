{
 "cells": [
  {
   "cell_type": "markdown",
   "metadata": {
    "tags": [
     "T"
    ]
   },
   "source": [
    "> **Student Names and IDs**:\n",
    ">\n",
    "> - Student 1, ID1 (Replace this item with your first and last name and student ID number.\n",
    "Add more items like this as needed, including the `> -` characters at the beginning,\n",
    "which generate the indent and the bullet.)\n",
    "> - Pablo Ortiz, 0686443\n",
    "> - Jongwan Park, 0848815"
   ]
  },
  {
   "cell_type": "markdown",
   "metadata": {
    "tags": [
     "HST"
    ]
   },
   "source": [
    "# Homework 2"
   ]
  },
  {
   "cell_type": "markdown",
   "metadata": {
    "tags": [
     "HST"
    ]
   },
   "source": [
    "## Part 1: Exam-Style Questions"
   ]
  },
  {
   "cell_type": "markdown",
   "metadata": {
    "tags": [
     "HST"
    ]
   },
   "source": [
    "### Problem 1.1"
   ]
  },
  {
   "cell_type": "markdown",
   "metadata": {
    "tags": [
     "HST"
    ]
   },
   "source": [
    "Write the \"full\" correlation $J = I \\ast I$ of the following $2\\times 2$ image with itself, using zero padding. Do _not_ normalize.\n",
    "\n",
    "$$\n",
    "I = \\left[\\begin{array}{cc}1 & 2\\\\0 & 3 \\end{array}\\right]\n",
    "$$"
   ]
  },
  {
   "cell_type": "markdown",
   "metadata": {
    "tags": [
     "ST"
    ]
   },
   "source": [
    "### Answer"
   ]
  },
  {
   "cell_type": "markdown",
   "metadata": {
    "tags": [
     "HST"
    ]
   },
   "source": [
    "### Problem 1.2"
   ]
  },
  {
   "cell_type": "markdown",
   "metadata": {
    "tags": [
     "HST"
    ]
   },
   "source": [
    "Is the following convolution kernel separable? If so, separate it. If not, prove that it is not.\n",
    "\n",
    "$$\n",
    "H = \\left[\\begin{array}{rrr}2 & 0 & 6\\\\0 & 1 & 0\\\\1 & 0 & 3 \\end{array}\\right]\n",
    "$$"
   ]
  },
  {
   "cell_type": "markdown",
   "metadata": {
    "tags": [
     "ST"
    ]
   },
   "source": [
    "### Answer"
   ]
  },
  {
   "cell_type": "markdown",
   "metadata": {
    "tags": [
     "HST"
    ]
   },
   "source": [
    "### Problem 1.3"
   ]
  },
  {
   "cell_type": "markdown",
   "metadata": {
    "tags": [
     "HST"
    ]
   },
   "source": [
    "Give expressions for the summation endpoints $s$ and $e$ in the formula for $c_i$ given above. Your expression should be in terms of $n$, $i$, and the $\\max$ and/or $\\min$ operators (maximum and minimum between two numbers)."
   ]
  },
  {
   "cell_type": "markdown",
   "metadata": {
    "tags": [
     "ST"
    ]
   },
   "source": [
    "### Answer"
   ]
  },
  {
   "cell_type": "markdown",
   "metadata": {
    "tags": [
     "HST"
    ]
   },
   "source": [
    "### Problem 1.4"
   ]
  },
  {
   "cell_type": "markdown",
   "metadata": {
    "tags": [
     "HST"
    ]
   },
   "source": [
    "Show that the \"full\" correlation $a \\star b$ as defined in the previous problem does not commute."
   ]
  },
  {
   "cell_type": "markdown",
   "metadata": {
    "tags": [
     "ST"
    ]
   },
   "source": [
    "### Answer"
   ]
  },
  {
   "cell_type": "markdown",
   "metadata": {
    "tags": [
     "HST"
    ]
   },
   "source": [
    "### Problem 1.5"
   ]
  },
  {
   "cell_type": "markdown",
   "metadata": {
    "tags": [
     "HST"
    ]
   },
   "source": [
    "Let\n",
    "$$\n",
    "c = a \\star b \\;\\;\\;\\text{and}\\;\\;\\; d = b \\star a\n",
    "$$\n",
    "be the two \"full\" correlations between arbitrary, non-empty sequences $a, b$ of equal length $n+1$, as defined above.\n",
    "\n",
    "Give a general expression for the relationship between $c$ and $d$. Specifically, how does the generic element $c_i$ of $c$ relate to the generic element $d_j$ of $d$?\n",
    "\n",
    "No proof is necessary."
   ]
  },
  {
   "cell_type": "markdown",
   "metadata": {
    "tags": [
     "ST"
    ]
   },
   "source": [
    "### Answer"
   ]
  },
  {
   "cell_type": "markdown",
   "metadata": {
    "tags": [
     "HST"
    ]
   },
   "source": [
    "## Part 2: Convolution"
   ]
  },
  {
   "cell_type": "markdown",
   "metadata": {
    "tags": [
     "HST"
    ]
   },
   "source": [
    "### Problem 2.1"
   ]
  },
  {
   "cell_type": "markdown",
   "metadata": {
    "tags": [
     "HST"
    ]
   },
   "source": [
    "Write a function with header\n",
    "\n",
    "    def convolve(a, b, ctype='same'):\n",
    "\n",
    "that takes two one-dimensional `numpy` arrays `a` and `b` and an optional convolution type specification `ctype` and returns the convolution of the two arrays as a `numpy` array. Assume that sequence `a` is no shorter than sequence `b`.\n",
    "\n",
    "The possible values for `ctype` are `'full'`, `'same'` (the default), and `'valid'`. For the last two types, `a` is the signal and `b` is the kernel. For instance, `'same'` means that the output has the same size as `a`.\n",
    "\n",
    "Show your code and the result of running the given test cases, which compare your implementation to `numpy.convolve`. It is OK if the `dtype` of your output differs from that of `numpy.convolve`."
   ]
  },
  {
   "cell_type": "markdown",
   "metadata": {
    "tags": [
     "ST"
    ]
   },
   "source": [
    "### Answer"
   ]
  },
  {
   "cell_type": "code",
   "execution_count": 3,
   "metadata": {
    "tags": [
     "T"
    ]
   },
   "outputs": [],
   "source": [
    "def convolve(a, b, ctype='same'):\n",
    "    if ctype == 'same':\n",
    "        if np.mod(len(b), 2) == 1:\n",
    "            pada = np.append(np.zeros([1, int((len(b) - 1) / 2)]), a)\n",
    "            pada = np.append(pada, np.zeros([1, int((len(b) - 1) / 2)]))\n",
    "        else:\n",
    "            pada = np.append(np.zeros([1, int(len(b) / 2)]), a)\n",
    "            pada = np.append(pada, np.zeros([1, int(len(b) / 2)]))\n",
    "            b = np.append([0], b)\n",
    "        c = np.zeros((1, len(a)))\n",
    "    elif ctype == 'full':\n",
    "        pada = np.append(np.zeros([1, int(len(b) - 1)]), a)\n",
    "        pada = np.append(pada, np.zeros([1, int(len(b) - 1)]))\n",
    "        c = np.zeros((1, len(a) + len(b) - 1))\n",
    "    elif ctype == 'valid':\n",
    "        pada = a\n",
    "        c = np.zeros((1, len(a) - len(b) + 1))\n",
    "    else:\n",
    "        raise ValueError('invalid convolution type')\n",
    "    \n",
    "    for i in range(len(pada) - len(b) + 1):\n",
    "        for j in range(len(b)):\n",
    "            c[0, i] = c[0, i] + b[-j - 1] * pada[i + j]\n",
    "    return c\n"
   ]
  },
  {
   "cell_type": "code",
   "execution_count": null,
   "metadata": {
    "tags": [
     "ST"
    ]
   },
   "outputs": [
    {
     "name": "stdout",
     "output_type": "stream",
     "text": [
      "convolve:\nfull: [[ 4.  2. -6.  0. 10. 16. 12. 14.]]\nsame: [[ 4.  2. -6.  0. 10. 16. 12. 14.]]\nvalid: [[ 4.  2. -6.  0. 10. 16. 12. 14.]]\n\nnumpy.convolve:\nfull: [ 4  2 -6  0 10 16 12 14]\nsame: [ 4  2 -6  0 10 16 12 14]\nvalid: [ 4  2 -6  0 10 16 12 14]\n\n"
     ]
    }
   ],
   "source": [
    "import numpy as np\n",
    "\n",
    "signal = np.array([2, 1, -3, 0, 5])\n",
    "kernel = np.array([2, 0, -1, -2])\n",
    "\n",
    "ctypes = ('full', 'same', 'valid')\n",
    "\n",
    "try:\n",
    "    print('convolve:')\n",
    "    for ctype in ctypes:\n",
    "        print(ctype, ': ', convolve(signal, kernel, ctype), sep='')\n",
    "    print()\n",
    "    \n",
    "    print('numpy.convolve:')\n",
    "    for ctype in ctypes:\n",
    "        print(ctype, ': ', np.convolve(signal, kernel, ctype), sep='')\n",
    "    print()\n",
    "except NameError:\n",
    "    pass\n"
   ]
  },
  {
   "cell_type": "markdown",
   "metadata": {
    "tags": [
     "HST"
    ]
   },
   "source": [
    "### Problem 2.2"
   ]
  },
  {
   "cell_type": "markdown",
   "metadata": {
    "tags": [
     "HST"
    ]
   },
   "source": [
    "Write a function with header\n",
    "\n",
    "    def convolve2d(I, H):\n",
    "    \n",
    "that takes a two-dimensional numerical `numpy` array `I` and a two-dimensional numerical `numpy` array `H`, both non-empty, _and uses_ `np.convolve` (the `numpy` one-dimensional convolution function) to implement the (two-dimensional) convolution of `I` and `H` of style `same`. Do _not_ use any other convolution operators.\n",
    "\n",
    "Show your code and the result of running the given test cases, which compare your implementation to `scipy.signal.convolve2d` when called with the `'same'` option. It is OK if the `dtype` of your output differs from that of `scipy.signal.convolve2d`."
   ]
  },
  {
   "cell_type": "markdown",
   "metadata": {
    "tags": [
     "ST"
    ]
   },
   "source": [
    "### Answer"
   ]
  },
  {
   "cell_type": "code",
   "execution_count": 3,
   "metadata": {
    "tags": [
     "T"
    ]
   },
   "outputs": [],
   "source": [
    "# Your answer here"
   ]
  },
  {
   "cell_type": "code",
   "execution_count": 4,
   "metadata": {
    "tags": [
     "ST"
    ]
   },
   "outputs": [],
   "source": [
    "from scipy import signal as ss\n",
    "import numpy as np\n",
    "\n",
    "a = np.array([[10, 11, 12], \n",
    "              [20, 21, 22],\n",
    "              [30, 31, 32]])\n",
    "hList = (np. array([[1]]), np.array([[1, -2]]), np.array([[2], [-1]]),\n",
    "         np.array([[2, 3, 5], [4, 0, 1]]), np.array([[2, 3, 5], [4, 0, 1], [1, -1, 2]]))\n",
    "\n",
    "try:\n",
    "    for h in hList:\n",
    "        c = convolve2d(a, h)\n",
    "        s = ss.convolve2d(a, h, 'same')\n",
    "\n",
    "        print('----')\n",
    "        print('convolve2d:', c, sep='\\n', end='\\n\\n')\n",
    "        print('scipy.signal.convolve2d:', s, sep='\\n', end='\\n\\n')\n",
    "except NameError:\n",
    "    pass\n"
   ]
  },
  {
   "cell_type": "markdown",
   "metadata": {
    "tags": [
     "HST"
    ]
   },
   "source": [
    "## Part 3: Image Differentiation"
   ]
  },
  {
   "cell_type": "markdown",
   "metadata": {
    "tags": [
     "HST"
    ]
   },
   "source": [
    "### Problem 3.1"
   ]
  },
  {
   "cell_type": "markdown",
   "metadata": {
    "tags": [
     "HST"
    ]
   },
   "source": [
    "Implement two functions with headers\n",
    "\n",
    "    def Gaussian(sigma):\n",
    "    \n",
    "and\n",
    "\n",
    "    def dGaussian(sigma):\n",
    "    \n",
    "that return a one-dimensional truncated discrete Gaussian convolution kernel and its derivative (the two kernels $g(x)$ and $d(x)$ from the class notes). Both kernels take the parameter $\\sigma$ of the Gaussian as argument. The output of each function should be a `numpy` array (like the one that `scipy.signal.gaussian` returns) that contains the values of the function at integer points of their domain in the interval $[-a, a]$ where $a = \\text{ceil}(3.5\\sigma)$ (use `math.ceil`). The output kernels should be properly normalized, as explained in the class notes.\n",
    "\n",
    "Show your code and a plot of each function with $\\sigma = 2.3$. No labels are needed, but plot the Gaussian first. Use the `'.-'` line style option."
   ]
  },
  {
   "cell_type": "markdown",
   "metadata": {},
   "source": [
    "Remember to use\n",
    "\n",
    "    %matplotlib inline\n",
    "    \n",
    "as you did in homework 1."
   ]
  },
  {
   "cell_type": "markdown",
   "metadata": {
    "tags": [
     "ST"
    ]
   },
   "source": [
    "### Answer"
   ]
  },
  {
   "cell_type": "markdown",
   "metadata": {
    "tags": [
     "HST"
    ]
   },
   "source": [
    "### Problem 3.2"
   ]
  },
  {
   "cell_type": "markdown",
   "metadata": {
    "tags": [
     "HST"
    ]
   },
   "source": [
    "Write a function with header\n",
    "\n",
    "    def gradient(img, sigma=2.5):\n",
    "    \n",
    "that computes the gradient of the black-and-white image `img` (a two-dimensional `numpy` array). Your implementation should use the function `scipy.signal.convolve2d` and the kernel functions you wrote for the previous problem. The result should be a pair (that is, a Python tuple of length 2) of `numpy` arrays, each of the same size as `img`. The first array in the pair should be the derivative in the horizontal direction.\n",
    "\n",
    "The positive coordinate axes are horizontal to the right and vertical down. Make sure you get the signs of the derivatives right, given this convention.\n",
    "\n",
    "The function `scipy.signal.convolve2d` takes a 2-dimensional kernel, but you _must_ exploit separability of the differentiation kernels for full credit, so you will be calling this function with kernels that are either $k\\times 1$ or $1\\times k$ for some $k$.\n",
    "\n",
    "Show your code, and display the `locomotive.jpg` image (provided) and the two gradient images for it. Use the default value of `sigma`, and use `matplotlib.pyplot.imshow` for display."
   ]
  },
  {
   "cell_type": "markdown",
   "metadata": {
    "tags": [
     "ST"
    ]
   },
   "source": [
    "### Answer"
   ]
  },
  {
   "cell_type": "markdown",
   "metadata": {
    "tags": [
     "HST"
    ]
   },
   "source": [
    "### Problem 3.3"
   ]
  },
  {
   "cell_type": "markdown",
   "metadata": {
    "tags": [
     "HST"
    ]
   },
   "source": [
    "Compute and display the magnitude of the gradient for `locomotive.jpg`. Show your code and the output."
   ]
  },
  {
   "cell_type": "markdown",
   "metadata": {
    "tags": [
     "ST"
    ]
   },
   "source": [
    "### Answer"
   ]
  }
 ],
 "metadata": {
  "kernelspec": {
   "display_name": "Python 3",
   "language": "python",
   "name": "python3"
  },
  "language_info": {
   "codemirror_mode": {
    "name": "ipython",
    "version": 3
   },
   "file_extension": ".py",
   "mimetype": "text/x-python",
   "name": "python",
   "nbconvert_exporter": "python",
   "pygments_lexer": "ipython3",
   "version": "3.6.7"
  }
 },
 "nbformat": 4,
 "nbformat_minor": 2
}
